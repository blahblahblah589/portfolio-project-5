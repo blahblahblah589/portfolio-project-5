{
  "cells": [
    {
      "cell_type": "markdown",
      "metadata": {
        "id": "0aStgWSO0E0E"
      },
      "source": [
        "# **Data Visualisation**"
      ]
    },
    {
      "cell_type": "markdown",
      "metadata": {
        "id": "1eLEkw5O0ECa"
      },
      "source": [
        "## Objectives\n",
        "\n",
        "* Answer business requirements:\n",
        " - Determine the population distribution of butterfly and moth population, based on data collected so far.\n",
        " - Present a visual average of each cllassification, and determine whether this can assist in educating researchers in collecting the data.\n",
        " - Present a visual varience of each classification, and determine if this can assist in educating researchers in diferenitating between species.\n",
        " - Create an image montage of random selections of each classification, for reference.\n",
        "\n",
        "## Inputs\n",
        "\n",
        "* inputs/butterfly_moth/images/test\n",
        "* inputs/butterfly_moth/images/validation\n",
        "* inputs/butterfly_moth/images/train\n",
        "\n",
        "## Outputs\n",
        "\n",
        "* Distribution of population per label plot.\n",
        "* Average and variablity of images per label plot.\n",
        "* Image montage of each classification.\n",
        "\n",
        "## Additional Comments\n",
        "\n",
        "* No comments.\n",
        "\n"
      ]
    },
    {
      "cell_type": "markdown",
      "metadata": {
        "id": "9uWZXH9LwoQg"
      },
      "source": [
        "---"
      ]
    },
    {
      "cell_type": "markdown",
      "metadata": {
        "id": "cqP-UeN-z3i2"
      },
      "source": [
        "## Library Imports and Working Directory Change"
      ]
    },
    {
      "cell_type": "code",
      "execution_count": 36,
      "metadata": {},
      "outputs": [],
      "source": [
        "import os\n",
        "import matplotlib.pyplot as plt\n",
        "import seaborn as sns\n",
        "import pandas as pd\n",
        "import numpy as np\n",
        "import joblib\n",
        "from matplotlib.image import imread\n",
        "sns.set_style('white')"
      ]
    },
    {
      "cell_type": "code",
      "execution_count": null,
      "metadata": {},
      "outputs": [],
      "source": [
        "cwd = os.getcwd()"
      ]
    },
    {
      "cell_type": "code",
      "execution_count": 30,
      "metadata": {
        "id": "TwHsQRWjz3i9",
        "outputId": "86849db3-cd2f-4cc5-ebb8-2d0caafa1a2c"
      },
      "outputs": [
        {
          "name": "stdout",
          "output_type": "stream",
          "text": [
            "You set a new current directory\n"
          ]
        }
      ],
      "source": [
        "os.chdir('workspace/portfolio-project-5/')\n",
        "print(\"You set a new current directory\")"
      ]
    },
    {
      "cell_type": "code",
      "execution_count": 31,
      "metadata": {
        "id": "wZfF_j-Bz3i4",
        "outputId": "66943449-1436-4c3d-85c7-b85f9f78349b"
      },
      "outputs": [
        {
          "data": {
            "text/plain": [
              "'/workspace/portfolio-project-5'"
            ]
          },
          "execution_count": 31,
          "metadata": {},
          "output_type": "execute_result"
        }
      ],
      "source": [
        "work_dir = os.getcwd()\n",
        "work_dir"
      ]
    },
    {
      "cell_type": "markdown",
      "metadata": {},
      "source": [
        "---"
      ]
    },
    {
      "cell_type": "markdown",
      "metadata": {
        "id": "-mavJ8DibrcQ"
      },
      "source": [
        "# Set Directories"
      ]
    },
    {
      "cell_type": "markdown",
      "metadata": {},
      "source": [
        "## Input"
      ]
    },
    {
      "cell_type": "markdown",
      "metadata": {},
      "source": [
        "Set train, validation and test paths."
      ]
    },
    {
      "cell_type": "code",
      "execution_count": 32,
      "metadata": {},
      "outputs": [],
      "source": [
        "img_data_dir = 'inputs/butterfly_moth/images'\n",
        "train_path = img_data_dir + '/train'\n",
        "test_path = img_data_dir + '/test'\n",
        "validation_path = img_data_dir + '/validation'"
      ]
    },
    {
      "cell_type": "markdown",
      "metadata": {},
      "source": [
        "## Output"
      ]
    },
    {
      "cell_type": "code",
      "execution_count": 33,
      "metadata": {},
      "outputs": [],
      "source": [
        "version = 'v1'\n",
        "file_path = f'outputs/{version}'\n",
        "\n",
        "if 'outputs' in os.listdir(work_dir) and version in os.listdir(work_dir + '/outputs'):\n",
        "  print('Old version is already available create a new version.')\n",
        "  pass\n",
        "else:\n",
        "  os.makedirs(name=file_path)"
      ]
    },
    {
      "cell_type": "markdown",
      "metadata": {},
      "source": [
        "Set label name."
      ]
    },
    {
      "cell_type": "code",
      "execution_count": 34,
      "metadata": {},
      "outputs": [
        {
          "name": "stdout",
          "output_type": "stream",
          "text": [
            "Labels: ['adonis', 'african_giant_swallowtail', 'american_snoot', 'an_88', 'appollo', 'arcigera_flower_moth', 'atala', 'atlas_moth', 'banded_orange_heliconian', 'banded_peacock', 'banded_tiger_moth', 'beckers_white', 'bird_cherry_ermine_moth', 'black_hairstreak', 'blue_morpho', 'blue_spotted_crow', 'brookes_birdwing', 'brown_argus', 'brown_siproeta', 'cabbage_white', 'cairns_birdwing', 'chalk_hill_blue', 'checquered_skipper', 'chestnut', 'cinnabar_moth', 'clearwing_moth', 'cleopatra', 'clodius_parnassian', 'clouded_sulphur', 'comet_moth', 'common_banded_awl', 'common_wood-nymph', 'copper_tail', 'crecent', 'crimson_patch', 'danaid_eggfly', 'eastern_coma', 'eastern_dapple_white', 'eastern_pine_elfin', 'elbowed_pierrot', 'emperor_gum_moth', 'garden_tiger_moth', 'giant_leopard_moth', 'glittering_sapphire', 'gold_banded', 'great_eggfly', 'great_jay', 'green_celled_cattleheart', 'green_hairstreak', 'grey_hairstreak', 'hercules_moth', 'humming_bird_hawk_moth', 'indra_swallow', 'io_moth', 'iphiclus_sister', 'julia', 'large_marble', 'luna_moth', 'madagascan_sunset_moth', 'malachite', 'mangrove_skipper', 'mestra', 'metalmark', 'milberts_tortoiseshell', 'monarch', 'mourning_cloak', 'oleander_hawk_moth', 'orange_oakleaf', 'orange_tip', 'orchard_swallow', 'painted_lady', 'paper_kite', 'peacock', 'pine_white', 'pipevine_swallow', 'polyphemus_moth', 'popinjay', 'purple_hairstreak', 'purplish_copper', 'question_mark', 'red_admiral', 'red_cracker', 'red_postman', 'red_spotted_purple', 'rosy_maple_moth', 'scarce_swallow', 'silver_spot_skipper', 'sixspot_burnet_moth', 'sleepy_orange', 'sootywing', 'southern_dogface', 'straited_queen', 'tropical_leafwing', 'two_barred_flasher', 'ulyses', 'viceroy', 'white_lined_sphinx_moth', 'wood_satyr', 'yellow_swallow_tail', 'zebra_long_wing']\n"
          ]
        }
      ],
      "source": [
        "labels = os.listdir(train_path)\n",
        "print(f'Labels: {labels}')"
      ]
    },
    {
      "cell_type": "markdown",
      "metadata": {
        "id": "ZY3l0-AxO93d"
      },
      "source": [
        "---"
      ]
    },
    {
      "cell_type": "markdown",
      "metadata": {
        "id": "uFQo3ycuO-v6"
      },
      "source": [
        "# Image Shape"
      ]
    },
    {
      "cell_type": "markdown",
      "metadata": {},
      "source": [
        "Determine if the images are all the same size, if not, what is the average shape."
      ]
    },
    {
      "cell_type": "code",
      "execution_count": 45,
      "metadata": {},
      "outputs": [
        {
          "data": {
            "image/png": "[encoded data removed]",
            "text/plain": [
              "<Figure size 640x480 with 1 Axes>"
            ]
          },
          "metadata": {},
          "output_type": "display_data"
        },
        {
          "name": "stdout",
          "output_type": "stream",
          "text": [
            "Average width is 224.\n",
            " Average height is 224\n",
            "Height and width match for all images. All images are the same size.\n"
          ]
        }
      ],
      "source": [
        "width = []\n",
        "height = []\n",
        "\n",
        "for label in labels:\n",
        "    for img_name in os.listdir(train_path + '/' + label):\n",
        "        image = imread(train_path + '/' + label + '/' + img_name)\n",
        "        h, w, colors = image.shape\n",
        "        height.append(h)\n",
        "        width.append(w)\n",
        "\n",
        "\n",
        "sns.set_style('whitegrid')\n",
        "fig, axes = plt.subplots()\n",
        "sns.scatterplot(x=height, y=width, alpha=0.4)\n",
        "axes.set_xlabel('Height, px')\n",
        "axes.set_ylabel('Width, px')\n",
        "mean_height = int(np.array(height).mean())\n",
        "mean_width = int(np.array(width).mean())\n",
        "axes.axvline(x=mean_height, color='b', linestyle='--')\n",
        "axes.axhline(y=mean_width, color='b', linestyle='--')\n",
        "plt.show()\n",
        "print(f'Average width is {mean_width}.\\n Average height is {mean_height}')\n",
        "\n",
        "\n",
        "height_array = np.array(height)\n",
        "width_array = np.array(width)\n",
        "unique_height = np.unique(height_array)\n",
        "unique_width = np.unique(width_array)\n",
        "\n",
        "if len(unique_height) == 1 and len(unique_width) == 1:\n",
        "    print('Height and width match for all images. All images are the same size.')\n",
        "\n"
      ]
    },
    {
      "cell_type": "markdown",
      "metadata": {},
      "source": [
        "---"
      ]
    },
    {
      "cell_type": "markdown",
      "metadata": {},
      "source": [
        "# Population Distribution"
      ]
    },
    {
      "cell_type": "markdown",
      "metadata": {},
      "source": [
        "Determine the total population and the population distribution based on the recorded data so far."
      ]
    },
    {
      "cell_type": "code",
      "execution_count": 52,
      "metadata": {},
      "outputs": [
        {
          "name": "stdout",
          "output_type": "stream",
          "text": [
            "                      Species  Recorded Population\n",
            "0                      adonis                   91\n",
            "1   african_giant_swallowtail                   78\n",
            "2              american_snoot                   77\n",
            "3                       an_88                   88\n",
            "4                     appollo                   93\n",
            "..                        ...                  ...\n",
            "95                    viceroy                   84\n",
            "96    white_lined_sphinx_moth                  103\n",
            "97                 wood_satyr                   74\n",
            "98        yellow_swallow_tail                   78\n",
            "99            zebra_long_wing                   76\n",
            "\n",
            "[100 rows x 2 columns]\n",
            "Total Recorded Population: 9117\n"
          ]
        }
      ],
      "source": [
        "image_data = []\n",
        "\n",
        "for label in labels:\n",
        "    species = os.path.join(train_path, label)\n",
        "    count = len([name for name in os.listdir(species) if os.path.isfile(os.path.join(species, name))])\n",
        "\n",
        "    image_data.append({'Species': label, 'Recorded Population': count})\n",
        "\n",
        "species_df = pd.DataFrame(image_data)\n",
        "total_population = species_df['Recorded Population'].sum()\n",
        "\n",
        "print(species_df)\n",
        "print(f'Total Recorded Population: {total_population}')"
      ]
    },
    {
      "cell_type": "markdown",
      "metadata": {},
      "source": [
        "Plot the total population by species."
      ]
    },
    {
      "cell_type": "code",
      "execution_count": null,
      "metadata": {},
      "outputs": [],
      "source": []
    },
    {
      "cell_type": "markdown",
      "metadata": {},
      "source": [
        "---"
      ]
    },
    {
      "cell_type": "markdown",
      "metadata": {
        "id": "ltNetd085qHf"
      },
      "source": [
        "# Push files to Repo"
      ]
    },
    {
      "cell_type": "markdown",
      "metadata": {},
      "source": [
        "* If you don't need to push files to Repo, you may replace this section with \"Conclusions and Next Steps\" and state your conclusions and next steps."
      ]
    },
    {
      "cell_type": "code",
      "execution_count": null,
      "metadata": {
        "id": "aKlnIozA4eQO",
        "outputId": "fd09bc1f-adb1-4511-f6ce-492a6af570c0"
      },
      "outputs": [],
      "source": [
        "import os\n",
        "try:\n",
        "    # create here your folder\n",
        "    # os.makedirs(name='')\n",
        "except Exception as e:\n",
        "    print(e)\n"
      ]
    }
  ],
  "metadata": {
    "accelerator": "GPU",
    "colab": {
      "name": "Data Practitioner Jupyter Notebook.ipynb",
      "provenance": [],
      "toc_visible": true
    },
    "interpreter": {
      "hash": "8b8334dab9339717f727a1deaf837b322d7a41c20d15cc86be99a8e69ceec8ce"
    },
    "kernelspec": {
      "display_name": "Python 3.8.12 64-bit ('3.8.12': pyenv)",
      "name": "python3"
    },
    "language_info": {
      "codemirror_mode": {
        "name": "ipython",
        "version": 3
      },
      "file_extension": ".py",
      "mimetype": "text/x-python",
      "name": "python",
      "nbconvert_exporter": "python",
      "pygments_lexer": "ipython3",
      "version": "3.8.18"
    },
    "orig_nbformat": 2
  },
  "nbformat": 4,
  "nbformat_minor": 2
}
