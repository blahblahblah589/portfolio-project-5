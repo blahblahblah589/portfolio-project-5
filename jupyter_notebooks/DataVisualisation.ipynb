{
  "cells": [
    {
      "cell_type": "markdown",
      "metadata": {
        "id": "0aStgWSO0E0E"
      },
      "source": [
        "# **Data Visualisation**"
      ]
    },
    {
      "cell_type": "markdown",
      "metadata": {
        "id": "1eLEkw5O0ECa"
      },
      "source": [
        "## Objectives\n",
        "\n",
        "* Answer business requirements:\n",
        " - Determine the population distribution of butterfly and moth population, based on data collected so far.\n",
        " - Present a visual average of each cllassification, and determine whether this can assist in educating researchers in collecting the data.\n",
        " - Present a visual varience of each classification, and determine if this can assist in educating researchers in diferenitating between species.\n",
        " - Create an image montage of random selections of each classification, for reference.\n",
        "\n",
        "## Inputs\n",
        "\n",
        "* inputs/butterfly_moth/images/test\n",
        "* inputs/butterfly_moth/images/validation\n",
        "* inputs/butterfly_moth/images/train\n",
        "\n",
        "## Outputs\n",
        "\n",
        "* Distribution of population per label plot.\n",
        "* Average and variablity of images per label plot.\n",
        "* Image montage of each classification.\n",
        "\n",
        "## Additional Comments\n",
        "\n",
        "* No comments.\n",
        "\n"
      ]
    },
    {
      "cell_type": "markdown",
      "metadata": {
        "id": "9uWZXH9LwoQg"
      },
      "source": [
        "---"
      ]
    },
    {
      "cell_type": "markdown",
      "metadata": {
        "id": "cqP-UeN-z3i2"
      },
      "source": [
        "## Library Imports and Working Directory Change"
      ]
    },
    {
      "cell_type": "code",
      "execution_count": null,
      "metadata": {},
      "outputs": [],
      "source": [
        "import os\n",
        "import matplotlib.pyplot as plt\n",
        "import seaborn as sns\n",
        "import pandas as pd\n",
        "import numpy as np\n",
        "import plotly.express as px\n",
        "import joblib\n",
        "from matplotlib.image import imread\n",
        "from tensorflow.keras.preprocessing import image\n",
        "sns.set_style('white')"
      ]
    },
    {
      "cell_type": "code",
      "execution_count": null,
      "metadata": {},
      "outputs": [],
      "source": [
        "cwd = os.getcwd()\n",
        "cwd"
      ]
    },
    {
      "cell_type": "code",
      "execution_count": null,
      "metadata": {
        "id": "TwHsQRWjz3i9",
        "outputId": "86849db3-cd2f-4cc5-ebb8-2d0caafa1a2c"
      },
      "outputs": [],
      "source": [
        "os.chdir('/workspace/portfolio-project-5/')\n",
        "print(\"You set a new current directory\")"
      ]
    },
    {
      "cell_type": "code",
      "execution_count": null,
      "metadata": {
        "id": "wZfF_j-Bz3i4",
        "outputId": "66943449-1436-4c3d-85c7-b85f9f78349b"
      },
      "outputs": [],
      "source": [
        "work_dir = os.getcwd()\n",
        "work_dir"
      ]
    },
    {
      "cell_type": "markdown",
      "metadata": {},
      "source": [
        "---"
      ]
    },
    {
      "cell_type": "markdown",
      "metadata": {
        "id": "-mavJ8DibrcQ"
      },
      "source": [
        "# Set Directories"
      ]
    },
    {
      "cell_type": "markdown",
      "metadata": {},
      "source": [
        "## Input"
      ]
    },
    {
      "cell_type": "markdown",
      "metadata": {},
      "source": [
        "Set train, validation and test paths."
      ]
    },
    {
      "cell_type": "code",
      "execution_count": null,
      "metadata": {},
      "outputs": [],
      "source": [
        "img_data_dir = 'inputs/butterfly_moth/images'\n",
        "train_path = img_data_dir + '/train'\n",
        "test_path = img_data_dir + '/test'\n",
        "validation_path = img_data_dir + '/validation'"
      ]
    },
    {
      "cell_type": "markdown",
      "metadata": {},
      "source": [
        "## Output"
      ]
    },
    {
      "cell_type": "code",
      "execution_count": null,
      "metadata": {},
      "outputs": [],
      "source": [
        "version = 'v1'\n",
        "file_path = f'outputs/{version}'\n",
        "\n",
        "if 'outputs' in os.listdir(work_dir) and version in os.listdir(work_dir + '/outputs'):\n",
        "  print('Old version is already available create a new version.')\n",
        "  pass\n",
        "else:\n",
        "  os.makedirs(name=file_path)"
      ]
    },
    {
      "cell_type": "markdown",
      "metadata": {},
      "source": [
        "Set label name."
      ]
    },
    {
      "cell_type": "code",
      "execution_count": null,
      "metadata": {},
      "outputs": [],
      "source": [
        "labels = os.listdir(train_path)\n",
        "print(f'Labels: {labels}')"
      ]
    },
    {
      "cell_type": "markdown",
      "metadata": {
        "id": "ZY3l0-AxO93d"
      },
      "source": [
        "---"
      ]
    },
    {
      "cell_type": "markdown",
      "metadata": {
        "id": "uFQo3ycuO-v6"
      },
      "source": [
        "# Image Shape"
      ]
    },
    {
      "cell_type": "markdown",
      "metadata": {},
      "source": [
        "Determine if the images are all the same size, if not, what is the average shape."
      ]
    },
    {
      "cell_type": "code",
      "execution_count": null,
      "metadata": {},
      "outputs": [],
      "source": [
        "width = []\n",
        "height = []\n",
        "\n",
        "for label in labels:\n",
        "    for img_name in os.listdir(train_path + '/' + label):\n",
        "        image = imread(train_path + '/' + label + '/' + img_name)\n",
        "        h, w, colors = image.shape\n",
        "        height.append(h)\n",
        "        width.append(w)\n",
        "\n",
        "\n",
        "sns.set_style('whitegrid')\n",
        "fig, axes = plt.subplots()\n",
        "sns.scatterplot(x=height, y=width, alpha=0.4, s=200, color='red')\n",
        "axes.set_xlabel('Height (px)')\n",
        "axes.set_ylabel('Width (px)')\n",
        "mean_height = int(np.array(height).mean())\n",
        "mean_width = int(np.array(width).mean())\n",
        "axes.axvline(x=mean_height, color='black', linestyle=':', alpha=0.8)\n",
        "axes.axhline(y=mean_width, color='black', linestyle=':', alpha=0.8)\n",
        "plt.show()\n",
        "print(f'Average width is {mean_width}.\\n Average height is {mean_height}')\n",
        "\n",
        "\n",
        "height_array = np.array(height)\n",
        "width_array = np.array(width)\n",
        "unique_height = np.unique(height_array)\n",
        "unique_width = np.unique(width_array)\n",
        "\n",
        "if len(unique_height) == 1 and len(unique_width) == 1:\n",
        "    print('Height and width match for all images. All images are the same size.')\n",
        "\n"
      ]
    },
    {
      "cell_type": "markdown",
      "metadata": {},
      "source": [
        "Save image shape."
      ]
    },
    {
      "cell_type": "code",
      "execution_count": null,
      "metadata": {},
      "outputs": [],
      "source": [
        "image_shape = (mean_height, mean_width, 3) \n",
        "image_shape"
      ]
    },
    {
      "cell_type": "markdown",
      "metadata": {},
      "source": [
        "---"
      ]
    },
    {
      "cell_type": "markdown",
      "metadata": {},
      "source": [
        "# Average Image and Image Variability"
      ]
    },
    {
      "cell_type": "markdown",
      "metadata": {},
      "source": [
        "Load test set images as an array."
      ]
    },
    {
      "cell_type": "code",
      "execution_count": null,
      "metadata": {},
      "outputs": [],
      "source": [
        "def load_images_as_array(img_data_dir, new_size=(50,50), n_images_per_label=70):\n",
        "\n",
        "    X, y = np.array([], dtype='int'), np.array([], dtype='object')\n",
        "    labels = os.listdir(img_data_dir)\n",
        "\n",
        "    for label in labels:\n",
        "        counter = 0\n",
        "        for image_filename in os.listdir(img_data_dir + '/' + label):\n",
        "            if counter < n_images_per_label:\n",
        "                img = image.load_img(img_data_dir + '/' + label + '/' + image_filename, target_size=new_size)\n",
        "                if image.img_to_array(img).max() > 1: \n",
        "                    img_resized = image.img_to_array(img) / 255\n",
        "                else: \n",
        "                    img_resized = image.img_to_array(img)\n",
        "\n",
        "                X = np.append(X, img_resized).reshape(-1, new_size[0], new_size[1], img_resized.shape[2])\n",
        "                y = np.append(y, label)\n",
        "                counter +=1\n",
        "\n",
        "    return X, y\n"
      ]
    },
    {
      "cell_type": "code",
      "execution_count": null,
      "metadata": {},
      "outputs": [],
      "source": [
        "X, y = load_images_as_array(img_data_dir=test_path, new_size=(50,50), n_images_per_label=70)\n",
        "print(X.shape, y.shape)"
      ]
    },
    {
      "cell_type": "markdown",
      "metadata": {},
      "source": [
        "Plot average image and image variability."
      ]
    },
    {
      "cell_type": "code",
      "execution_count": 61,
      "metadata": {},
      "outputs": [],
      "source": [
        "def plot_average_and_variability_of_images(X, y, figsize, save_image=False):\n",
        "\n",
        "    for label in np.unique(y):\n",
        "\n",
        "        sns.set_style('white')\n",
        "\n",
        "        y = y.reshape(-1,1,1)\n",
        "        boolean_mask = np.any(y==label, axis=1).reshape(-1)\n",
        "        label_img = X[boolean_mask]\n",
        "        \n",
        "        avg_img = np.mean(label_img, axis=0)\n",
        "        img_var = np.std(label_img, axis=0)\n",
        "\n",
        "        fig, axes = plt.subplots(nrows=1, ncols=2, figsize=figsize)\n",
        "\n",
        "        axes[0].imshow(avg_img, cmap='gray')\n",
        "        axes[0].set_title(f'{label} - Average Image')\n",
        "\n",
        "        axes[1].imshow(img_var)\n",
        "        axes[1].set_title(f'{label} - Image Variability')\n",
        "\n",
        "        if save_image:\n",
        "            plt.savefig(f\"{file_path}/avg_var_{label_to_display}.png\", bbox_inches='tight', dpi=150)\n",
        "        else:\n",
        "            plt.tight_layout()\n",
        "            plt.show()"
      ]
    },
    {
      "cell_type": "code",
      "execution_count": null,
      "metadata": {},
      "outputs": [],
      "source": [
        "plot_average_and_variability_of_images(X=X, y=y, figsize=(15,10),save_image=True)"
      ]
    },
    {
      "cell_type": "markdown",
      "metadata": {},
      "source": [
        "---"
      ]
    },
    {
      "cell_type": "markdown",
      "metadata": {},
      "source": [
        "# Image Montage"
      ]
    },
    {
      "cell_type": "code",
      "execution_count": null,
      "metadata": {},
      "outputs": [],
      "source": []
    },
    {
      "cell_type": "markdown",
      "metadata": {},
      "source": [
        "---"
      ]
    },
    {
      "cell_type": "markdown",
      "metadata": {},
      "source": [
        "# Population Distribution"
      ]
    },
    {
      "cell_type": "markdown",
      "metadata": {},
      "source": [
        "Determine the total population and the population distribution based on the recorded data so far."
      ]
    },
    {
      "cell_type": "code",
      "execution_count": null,
      "metadata": {},
      "outputs": [],
      "source": [
        "image_data = []\n",
        "\n",
        "for label in labels:\n",
        "    species = os.path.join(train_path, label)\n",
        "    count = len([name for name in os.listdir(species) if os.path.isfile(os.path.join(species, name))])\n",
        "\n",
        "    image_data.append({'Species': label, 'Recorded Population': count})\n",
        "\n",
        "species_df = pd.DataFrame(image_data)\n",
        "total_population = species_df['Recorded Population'].sum()\n",
        "\n",
        "print(species_df)\n",
        "print(f'Total Recorded Population: {total_population}')"
      ]
    },
    {
      "cell_type": "markdown",
      "metadata": {},
      "source": [
        "Plot the total population by species, with the Y axis starting at 60 as the lowest population is in the 70's."
      ]
    },
    {
      "cell_type": "code",
      "execution_count": null,
      "metadata": {},
      "outputs": [],
      "source": [
        "population = species_df['Recorded Population']\n",
        "species = species_df['Species']\n",
        "\n",
        "plt.figure(figsize=(25,10))\n",
        "plt.bar(species, population, color='green')\n",
        "plt.ylim(ymin=60)\n",
        "plt.xlabel('Species')\n",
        "plt.ylabel('Population')\n",
        "plt.title('Population Distribution')\n",
        "plt.xticks(rotation=90)\n",
        "plt.show()"
      ]
    },
    {
      "cell_type": "markdown",
      "metadata": {},
      "source": [
        "---"
      ]
    },
    {
      "cell_type": "markdown",
      "metadata": {
        "id": "ltNetd085qHf"
      },
      "source": [
        "# Push files to Repo"
      ]
    },
    {
      "cell_type": "markdown",
      "metadata": {},
      "source": [
        "* If you don't need to push files to Repo, you may replace this section with \"Conclusions and Next Steps\" and state your conclusions and next steps."
      ]
    },
    {
      "cell_type": "code",
      "execution_count": null,
      "metadata": {
        "id": "aKlnIozA4eQO",
        "outputId": "fd09bc1f-adb1-4511-f6ce-492a6af570c0"
      },
      "outputs": [],
      "source": [
        "import os\n",
        "try:\n",
        "    # create here your folder\n",
        "    # os.makedirs(name='')\n",
        "except Exception as e:\n",
        "    print(e)\n"
      ]
    }
  ],
  "metadata": {
    "accelerator": "GPU",
    "colab": {
      "name": "Data Practitioner Jupyter Notebook.ipynb",
      "provenance": [],
      "toc_visible": true
    },
    "interpreter": {
      "hash": "8b8334dab9339717f727a1deaf837b322d7a41c20d15cc86be99a8e69ceec8ce"
    },
    "kernelspec": {
      "display_name": "Python 3.8.12 64-bit ('3.8.12': pyenv)",
      "name": "python3"
    },
    "language_info": {
      "codemirror_mode": {
        "name": "ipython",
        "version": 3
      },
      "file_extension": ".py",
      "mimetype": "text/x-python",
      "name": "python",
      "nbconvert_exporter": "python",
      "pygments_lexer": "ipython3",
      "version": "3.8.18"
    },
    "orig_nbformat": 2
  },
  "nbformat": 4,
  "nbformat_minor": 2
}
