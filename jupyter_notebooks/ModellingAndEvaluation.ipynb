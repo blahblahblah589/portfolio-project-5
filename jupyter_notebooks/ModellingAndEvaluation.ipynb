{
  "cells": [
    {
      "cell_type": "markdown",
      "metadata": {
        "id": "0aStgWSO0E0E"
      },
      "source": [
        "# Modelling and Evaluation"
      ]
    },
    {
      "cell_type": "markdown",
      "metadata": {
        "id": "1eLEkw5O0ECa"
      },
      "source": [
        "## Objectives\n",
        "\n",
        "* Create an ML model that can diferentiate between the 100 species of butterflies and moths within the dataset.\n",
        "\n",
        "## Inputs\n",
        "\n",
        "* inputs/butterfly_moth/images/test\n",
        "* inputs/butterfly_moth/images/validation\n",
        "* inputs/butterfly_moth/images/train\n",
        "\n",
        "## Outputs\n",
        "\n",
        "* Create ML model for training.\n",
        "* Save the model.\n",
        "* Various visual representations of model performance.\n",
        "\n",
        "## Additional Comments\n",
        "\n",
        "* No comments.\n",
        "\n"
      ]
    },
    {
      "cell_type": "markdown",
      "metadata": {
        "id": "9uWZXH9LwoQg"
      },
      "source": [
        "---"
      ]
    },
    {
      "cell_type": "markdown",
      "metadata": {},
      "source": [
        "## Library Imports and Working Directory Change"
      ]
    },
    {
      "cell_type": "code",
      "execution_count": 1,
      "metadata": {},
      "outputs": [],
      "source": [
        "import os\n",
        "import matplotlib.pyplot as plt\n",
        "import seaborn as sns\n",
        "import pandas as pd\n",
        "import itertools\n",
        "import random\n",
        "import numpy as np\n",
        "import plotly.express as px\n",
        "import joblib\n",
        "from matplotlib.image import imread\n",
        "from tensorflow.keras.preprocessing import image\n",
        "from tensorflow.keras.preprocessing.image import ImageDataGenerator\n",
        "from tensorflow.keras.models import Sequential\n",
        "from tensorflow.keras.layers import Activation, Dropout, MaxPool2D, Conv2D, Dense, Flatten, MaxPooling2D\n",
        "from PIL import Image\n",
        "from tensorflow.keras.callbacks import EarlyStopping, ModelCheckpoint\n",
        "\n",
        "sns.set_style('white')"
      ]
    },
    {
      "cell_type": "code",
      "execution_count": 2,
      "metadata": {},
      "outputs": [
        {
          "data": {
            "text/plain": [
              "'/workspace/portfolio-project-5/jupyter_notebooks'"
            ]
          },
          "execution_count": 2,
          "metadata": {},
          "output_type": "execute_result"
        }
      ],
      "source": [
        "cwd = os.getcwd()\n",
        "cwd"
      ]
    },
    {
      "cell_type": "code",
      "execution_count": 3,
      "metadata": {},
      "outputs": [
        {
          "name": "stdout",
          "output_type": "stream",
          "text": [
            "You set a new current directory\n"
          ]
        }
      ],
      "source": [
        "os.chdir('/workspace/portfolio-project-5/')\n",
        "print(\"You set a new current directory\")"
      ]
    },
    {
      "cell_type": "code",
      "execution_count": 4,
      "metadata": {},
      "outputs": [
        {
          "data": {
            "text/plain": [
              "'/workspace/portfolio-project-5'"
            ]
          },
          "execution_count": 4,
          "metadata": {},
          "output_type": "execute_result"
        }
      ],
      "source": [
        "work_dir = os.getcwd()\n",
        "work_dir"
      ]
    },
    {
      "cell_type": "markdown",
      "metadata": {},
      "source": [
        "Import image shape."
      ]
    },
    {
      "cell_type": "code",
      "execution_count": 5,
      "metadata": {},
      "outputs": [
        {
          "data": {
            "text/plain": [
              "(224, 224, 3)"
            ]
          },
          "execution_count": 5,
          "metadata": {},
          "output_type": "execute_result"
        }
      ],
      "source": [
        "version = 'v1'\n",
        "image_shape = joblib.load(filename=f'outputs/{version}/image_shape.pkl')\n",
        "image_shape"
      ]
    },
    {
      "cell_type": "markdown",
      "metadata": {},
      "source": [
        "---"
      ]
    },
    {
      "cell_type": "markdown",
      "metadata": {},
      "source": [
        "# Set Directories"
      ]
    },
    {
      "cell_type": "markdown",
      "metadata": {},
      "source": [
        "## Input"
      ]
    },
    {
      "cell_type": "markdown",
      "metadata": {},
      "source": [
        "Set train, validation and test paths."
      ]
    },
    {
      "cell_type": "code",
      "execution_count": 6,
      "metadata": {},
      "outputs": [],
      "source": [
        "img_data_dir = 'inputs/butterfly_moth/images'\n",
        "train_path = img_data_dir + '/train'\n",
        "test_path = img_data_dir + '/test'\n",
        "validation_path = img_data_dir + '/validation'"
      ]
    },
    {
      "cell_type": "markdown",
      "metadata": {},
      "source": [
        "## Output"
      ]
    },
    {
      "cell_type": "code",
      "execution_count": 7,
      "metadata": {},
      "outputs": [
        {
          "name": "stdout",
          "output_type": "stream",
          "text": [
            "Old version is already available create a new version.\n"
          ]
        }
      ],
      "source": [
        "version = 'v1'\n",
        "file_path = f'outputs/{version}'\n",
        "\n",
        "if 'outputs' in os.listdir(work_dir) and version in os.listdir(work_dir + '/outputs'):\n",
        "  print('Old version is already available create a new version.')\n",
        "  pass\n",
        "else:\n",
        "  os.makedirs(name=file_path)"
      ]
    },
    {
      "cell_type": "markdown",
      "metadata": {},
      "source": [
        "Set label name."
      ]
    },
    {
      "cell_type": "code",
      "execution_count": 8,
      "metadata": {},
      "outputs": [
        {
          "name": "stdout",
          "output_type": "stream",
          "text": [
            "Labels: ['adonis', 'african_giant_swallowtail', 'american_snoot', 'an_88', 'appollo', 'arcigera_flower_moth', 'atala', 'atlas_moth', 'banded_orange_heliconian', 'banded_peacock', 'banded_tiger_moth', 'beckers_white', 'bird_cherry_ermine_moth', 'black_hairstreak', 'blue_morpho', 'blue_spotted_crow', 'brookes_birdwing', 'brown_argus', 'brown_siproeta', 'cabbage_white', 'cairns_birdwing', 'chalk_hill_blue', 'checquered_skipper', 'chestnut', 'cinnabar_moth', 'clearwing_moth', 'cleopatra', 'clodius_parnassian', 'clouded_sulphur', 'comet_moth', 'common_banded_awl', 'common_wood-nymph', 'copper_tail', 'crecent', 'crimson_patch', 'danaid_eggfly', 'eastern_coma', 'eastern_dapple_white', 'eastern_pine_elfin', 'elbowed_pierrot', 'emperor_gum_moth', 'garden_tiger_moth', 'giant_leopard_moth', 'glittering_sapphire', 'gold_banded', 'great_eggfly', 'great_jay', 'green_celled_cattleheart', 'green_hairstreak', 'grey_hairstreak', 'hercules_moth', 'humming_bird_hawk_moth', 'indra_swallow', 'io_moth', 'iphiclus_sister', 'julia', 'large_marble', 'luna_moth', 'madagascan_sunset_moth', 'malachite', 'mangrove_skipper', 'mestra', 'metalmark', 'milberts_tortoiseshell', 'monarch', 'mourning_cloak', 'oleander_hawk_moth', 'orange_oakleaf', 'orange_tip', 'orchard_swallow', 'painted_lady', 'paper_kite', 'peacock', 'pine_white', 'pipevine_swallow', 'polyphemus_moth', 'popinjay', 'purple_hairstreak', 'purplish_copper', 'question_mark', 'red_admiral', 'red_cracker', 'red_postman', 'red_spotted_purple', 'rosy_maple_moth', 'scarce_swallow', 'silver_spot_skipper', 'sixspot_burnet_moth', 'sleepy_orange', 'sootywing', 'southern_dogface', 'straited_queen', 'tropical_leafwing', 'two_barred_flasher', 'ulyses', 'viceroy', 'white_lined_sphinx_moth', 'wood_satyr', 'yellow_swallow_tail', 'zebra_long_wing']\n"
          ]
        }
      ],
      "source": [
        "labels = os.listdir(train_path)\n",
        "print(f'Labels: {labels}')"
      ]
    },
    {
      "cell_type": "markdown",
      "metadata": {
        "id": "ZY3l0-AxO93d"
      },
      "source": [
        "---"
      ]
    },
    {
      "cell_type": "markdown",
      "metadata": {
        "id": "uFQo3ycuO-v6"
      },
      "source": [
        "# Dataset Breakdown"
      ]
    },
    {
      "cell_type": "markdown",
      "metadata": {},
      "source": [
        "I will first collate and plot the distribution of train, test and validation images."
      ]
    },
    {
      "cell_type": "code",
      "execution_count": 9,
      "metadata": {},
      "outputs": [
        {
          "data": {
            "image/png": "[encoded data removed]",
            "text/plain": [
              "<Figure size 640x480 with 1 Axes>"
            ]
          },
          "metadata": {},
          "output_type": "display_data"
        }
      ],
      "source": [
        "def collate_dataset(img_data_dir):\n",
        "    counts = {}\n",
        "    for folder in os.listdir(img_data_dir):\n",
        "        folder_path = os.path.join(img_data_dir, folder)\n",
        "        if os.path.isdir(folder_path):\n",
        "            num_of_img = sum([len(files) for r, d, files in os.walk(folder_path)])\n",
        "            counts[folder] = num_of_img\n",
        "    return counts\n",
        "\n",
        "num_of_train = collate_dataset(train_path)\n",
        "num_of_test = collate_dataset(test_path)\n",
        "num_of_validation = collate_dataset(validation_path)\n",
        "\n",
        "all_counts = {\n",
        "    'Train': sum(num_of_train.values()),\n",
        "    'Test': sum(num_of_test.values()),\n",
        "    'Validation': sum(num_of_validation.values())\n",
        "}\n",
        "\n",
        "fig, axes = plt.subplots()\n",
        "bars = axes.bar(all_counts.keys(), all_counts.values(), color=['#1E304B', '#707E5B', '#C94D5E'])\n",
        "\n",
        "axes.spines['top'].set_visible(False)\n",
        "axes.spines['right'].set_visible(False)\n",
        "\n",
        "for bar in bars:\n",
        "    height = bar.get_height()\n",
        "    axes.annotate('{}'.format(height),\n",
        "    xy=(bar.get_x() + bar.get_width() / 2, height),\n",
        "    xytext=(0, 3),\n",
        "    textcoords='offset points',\n",
        "    ha='center',\n",
        "    va='bottom')\n",
        "\n",
        "plt.title('Distribution of Images though Dataset')\n",
        "plt.xlabel('Set')\n",
        "plt.ylabel('Total Images')\n",
        "plt.show()\n",
        "\n"
      ]
    },
    {
      "cell_type": "markdown",
      "metadata": {},
      "source": [
        "### Test, Train and Validation Sets"
      ]
    },
    {
      "cell_type": "code",
      "execution_count": 10,
      "metadata": {},
      "outputs": [],
      "source": [
        "augmented_image_data = ImageDataGenerator(rotation_range=20,\n",
        "                                   width_shift_range=0.10, \n",
        "                                   height_shift_range=0.10,\n",
        "                                   shear_range=0.1,\n",
        "                                   zoom_range=0.1,\n",
        "                                   horizontal_flip=True,\n",
        "                                   vertical_flip=True,\n",
        "                                   fill_mode='nearest',\n",
        "                                   rescale=1./255\n",
        "                              )"
      ]
    },
    {
      "cell_type": "code",
      "execution_count": 11,
      "metadata": {},
      "outputs": [
        {
          "name": "stdout",
          "output_type": "stream",
          "text": [
            "Found 9117 images belonging to 100 classes.\n"
          ]
        },
        {
          "data": {
            "text/plain": [
              "{'adonis': 0,\n",
              " 'african_giant_swallowtail': 1,\n",
              " 'american_snoot': 2,\n",
              " 'an_88': 3,\n",
              " 'appollo': 4,\n",
              " 'arcigera_flower_moth': 5,\n",
              " 'atala': 6,\n",
              " 'atlas_moth': 7,\n",
              " 'banded_orange_heliconian': 8,\n",
              " 'banded_peacock': 9,\n",
              " 'banded_tiger_moth': 10,\n",
              " 'beckers_white': 11,\n",
              " 'bird_cherry_ermine_moth': 12,\n",
              " 'black_hairstreak': 13,\n",
              " 'blue_morpho': 14,\n",
              " 'blue_spotted_crow': 15,\n",
              " 'brookes_birdwing': 16,\n",
              " 'brown_argus': 17,\n",
              " 'brown_siproeta': 18,\n",
              " 'cabbage_white': 19,\n",
              " 'cairns_birdwing': 20,\n",
              " 'chalk_hill_blue': 21,\n",
              " 'checquered_skipper': 22,\n",
              " 'chestnut': 23,\n",
              " 'cinnabar_moth': 24,\n",
              " 'clearwing_moth': 25,\n",
              " 'cleopatra': 26,\n",
              " 'clodius_parnassian': 27,\n",
              " 'clouded_sulphur': 28,\n",
              " 'comet_moth': 29,\n",
              " 'common_banded_awl': 30,\n",
              " 'common_wood-nymph': 31,\n",
              " 'copper_tail': 32,\n",
              " 'crecent': 33,\n",
              " 'crimson_patch': 34,\n",
              " 'danaid_eggfly': 35,\n",
              " 'eastern_coma': 36,\n",
              " 'eastern_dapple_white': 37,\n",
              " 'eastern_pine_elfin': 38,\n",
              " 'elbowed_pierrot': 39,\n",
              " 'emperor_gum_moth': 40,\n",
              " 'garden_tiger_moth': 41,\n",
              " 'giant_leopard_moth': 42,\n",
              " 'glittering_sapphire': 43,\n",
              " 'gold_banded': 44,\n",
              " 'great_eggfly': 45,\n",
              " 'great_jay': 46,\n",
              " 'green_celled_cattleheart': 47,\n",
              " 'green_hairstreak': 48,\n",
              " 'grey_hairstreak': 49,\n",
              " 'hercules_moth': 50,\n",
              " 'humming_bird_hawk_moth': 51,\n",
              " 'indra_swallow': 52,\n",
              " 'io_moth': 53,\n",
              " 'iphiclus_sister': 54,\n",
              " 'julia': 55,\n",
              " 'large_marble': 56,\n",
              " 'luna_moth': 57,\n",
              " 'madagascan_sunset_moth': 58,\n",
              " 'malachite': 59,\n",
              " 'mangrove_skipper': 60,\n",
              " 'mestra': 61,\n",
              " 'metalmark': 62,\n",
              " 'milberts_tortoiseshell': 63,\n",
              " 'monarch': 64,\n",
              " 'mourning_cloak': 65,\n",
              " 'oleander_hawk_moth': 66,\n",
              " 'orange_oakleaf': 67,\n",
              " 'orange_tip': 68,\n",
              " 'orchard_swallow': 69,\n",
              " 'painted_lady': 70,\n",
              " 'paper_kite': 71,\n",
              " 'peacock': 72,\n",
              " 'pine_white': 73,\n",
              " 'pipevine_swallow': 74,\n",
              " 'polyphemus_moth': 75,\n",
              " 'popinjay': 76,\n",
              " 'purple_hairstreak': 77,\n",
              " 'purplish_copper': 78,\n",
              " 'question_mark': 79,\n",
              " 'red_admiral': 80,\n",
              " 'red_cracker': 81,\n",
              " 'red_postman': 82,\n",
              " 'red_spotted_purple': 83,\n",
              " 'rosy_maple_moth': 84,\n",
              " 'scarce_swallow': 85,\n",
              " 'silver_spot_skipper': 86,\n",
              " 'sixspot_burnet_moth': 87,\n",
              " 'sleepy_orange': 88,\n",
              " 'sootywing': 89,\n",
              " 'southern_dogface': 90,\n",
              " 'straited_queen': 91,\n",
              " 'tropical_leafwing': 92,\n",
              " 'two_barred_flasher': 93,\n",
              " 'ulyses': 94,\n",
              " 'viceroy': 95,\n",
              " 'white_lined_sphinx_moth': 96,\n",
              " 'wood_satyr': 97,\n",
              " 'yellow_swallow_tail': 98,\n",
              " 'zebra_long_wing': 99}"
            ]
          },
          "execution_count": 11,
          "metadata": {},
          "output_type": "execute_result"
        }
      ],
      "source": [
        "batch_size = 35\n",
        "train_set = augmented_image_data.flow_from_directory(\n",
        "    train_path,\n",
        "    color_mode = 'rgb',\n",
        "    target_size = image_shape[:2],\n",
        "    class_mode = 'categorical',\n",
        "    batch_size = batch_size,\n",
        "    shuffle = True\n",
        ")\n",
        "\n",
        "train_set.class_indices"
      ]
    },
    {
      "cell_type": "code",
      "execution_count": 12,
      "metadata": {},
      "outputs": [
        {
          "name": "stdout",
          "output_type": "stream",
          "text": [
            "Found 1267 images belonging to 100 classes.\n"
          ]
        },
        {
          "data": {
            "text/plain": [
              "{'adonis': 0,\n",
              " 'african_giant_swallowtail': 1,\n",
              " 'american_snoot': 2,\n",
              " 'an_88': 3,\n",
              " 'appollo': 4,\n",
              " 'arcigera_flower_moth': 5,\n",
              " 'atala': 6,\n",
              " 'atlas_moth': 7,\n",
              " 'banded_orange_heliconian': 8,\n",
              " 'banded_peacock': 9,\n",
              " 'banded_tiger_moth': 10,\n",
              " 'beckers_white': 11,\n",
              " 'bird_cherry_ermine_moth': 12,\n",
              " 'black_hairstreak': 13,\n",
              " 'blue_morpho': 14,\n",
              " 'blue_spotted_crow': 15,\n",
              " 'brookes_birdwing': 16,\n",
              " 'brown_argus': 17,\n",
              " 'brown_siproeta': 18,\n",
              " 'cabbage_white': 19,\n",
              " 'cairns_birdwing': 20,\n",
              " 'chalk_hill_blue': 21,\n",
              " 'checquered_skipper': 22,\n",
              " 'chestnut': 23,\n",
              " 'cinnabar_moth': 24,\n",
              " 'clearwing_moth': 25,\n",
              " 'cleopatra': 26,\n",
              " 'clodius_parnassian': 27,\n",
              " 'clouded_sulphur': 28,\n",
              " 'comet_moth': 29,\n",
              " 'common_banded_awl': 30,\n",
              " 'common_wood-nymph': 31,\n",
              " 'copper_tail': 32,\n",
              " 'crecent': 33,\n",
              " 'crimson_patch': 34,\n",
              " 'danaid_eggfly': 35,\n",
              " 'eastern_coma': 36,\n",
              " 'eastern_dapple_white': 37,\n",
              " 'eastern_pine_elfin': 38,\n",
              " 'elbowed_pierrot': 39,\n",
              " 'emperor_gum_moth': 40,\n",
              " 'garden_tiger_moth': 41,\n",
              " 'giant_leopard_moth': 42,\n",
              " 'glittering_sapphire': 43,\n",
              " 'gold_banded': 44,\n",
              " 'great_eggfly': 45,\n",
              " 'great_jay': 46,\n",
              " 'green_celled_cattleheart': 47,\n",
              " 'green_hairstreak': 48,\n",
              " 'grey_hairstreak': 49,\n",
              " 'hercules_moth': 50,\n",
              " 'humming_bird_hawk_moth': 51,\n",
              " 'indra_swallow': 52,\n",
              " 'io_moth': 53,\n",
              " 'iphiclus_sister': 54,\n",
              " 'julia': 55,\n",
              " 'large_marble': 56,\n",
              " 'luna_moth': 57,\n",
              " 'madagascan_sunset_moth': 58,\n",
              " 'malachite': 59,\n",
              " 'mangrove_skipper': 60,\n",
              " 'mestra': 61,\n",
              " 'metalmark': 62,\n",
              " 'milberts_tortoiseshell': 63,\n",
              " 'monarch': 64,\n",
              " 'mourning_cloak': 65,\n",
              " 'oleander_hawk_moth': 66,\n",
              " 'orange_oakleaf': 67,\n",
              " 'orange_tip': 68,\n",
              " 'orchard_swallow': 69,\n",
              " 'painted_lady': 70,\n",
              " 'paper_kite': 71,\n",
              " 'peacock': 72,\n",
              " 'pine_white': 73,\n",
              " 'pipevine_swallow': 74,\n",
              " 'polyphemus_moth': 75,\n",
              " 'popinjay': 76,\n",
              " 'purple_hairstreak': 77,\n",
              " 'purplish_copper': 78,\n",
              " 'question_mark': 79,\n",
              " 'red_admiral': 80,\n",
              " 'red_cracker': 81,\n",
              " 'red_postman': 82,\n",
              " 'red_spotted_purple': 83,\n",
              " 'rosy_maple_moth': 84,\n",
              " 'scarce_swallow': 85,\n",
              " 'silver_spot_skipper': 86,\n",
              " 'sixspot_burnet_moth': 87,\n",
              " 'sleepy_orange': 88,\n",
              " 'sootywing': 89,\n",
              " 'southern_dogface': 90,\n",
              " 'straited_queen': 91,\n",
              " 'tropical_leafwing': 92,\n",
              " 'two_barred_flasher': 93,\n",
              " 'ulyses': 94,\n",
              " 'viceroy': 95,\n",
              " 'white_lined_sphinx_moth': 96,\n",
              " 'wood_satyr': 97,\n",
              " 'yellow_swallow_tail': 98,\n",
              " 'zebra_long_wing': 99}"
            ]
          },
          "execution_count": 12,
          "metadata": {},
          "output_type": "execute_result"
        }
      ],
      "source": [
        "validation_set = ImageDataGenerator(rescale=1./255).flow_from_directory(\n",
        "    validation_path,\n",
        "    color_mode = 'rgb',\n",
        "    target_size = image_shape[:2],\n",
        "    class_mode = 'categorical',\n",
        "    batch_size = batch_size,\n",
        "    shuffle = True\n",
        ")\n",
        "\n",
        "validation_set.class_indices"
      ]
    },
    {
      "cell_type": "code",
      "execution_count": 13,
      "metadata": {},
      "outputs": [
        {
          "name": "stdout",
          "output_type": "stream",
          "text": [
            "Found 2710 images belonging to 100 classes.\n"
          ]
        },
        {
          "data": {
            "text/plain": [
              "{'adonis': 0,\n",
              " 'african_giant_swallowtail': 1,\n",
              " 'american_snoot': 2,\n",
              " 'an_88': 3,\n",
              " 'appollo': 4,\n",
              " 'arcigera_flower_moth': 5,\n",
              " 'atala': 6,\n",
              " 'atlas_moth': 7,\n",
              " 'banded_orange_heliconian': 8,\n",
              " 'banded_peacock': 9,\n",
              " 'banded_tiger_moth': 10,\n",
              " 'beckers_white': 11,\n",
              " 'bird_cherry_ermine_moth': 12,\n",
              " 'black_hairstreak': 13,\n",
              " 'blue_morpho': 14,\n",
              " 'blue_spotted_crow': 15,\n",
              " 'brookes_birdwing': 16,\n",
              " 'brown_argus': 17,\n",
              " 'brown_siproeta': 18,\n",
              " 'cabbage_white': 19,\n",
              " 'cairns_birdwing': 20,\n",
              " 'chalk_hill_blue': 21,\n",
              " 'checquered_skipper': 22,\n",
              " 'chestnut': 23,\n",
              " 'cinnabar_moth': 24,\n",
              " 'clearwing_moth': 25,\n",
              " 'cleopatra': 26,\n",
              " 'clodius_parnassian': 27,\n",
              " 'clouded_sulphur': 28,\n",
              " 'comet_moth': 29,\n",
              " 'common_banded_awl': 30,\n",
              " 'common_wood-nymph': 31,\n",
              " 'copper_tail': 32,\n",
              " 'crecent': 33,\n",
              " 'crimson_patch': 34,\n",
              " 'danaid_eggfly': 35,\n",
              " 'eastern_coma': 36,\n",
              " 'eastern_dapple_white': 37,\n",
              " 'eastern_pine_elfin': 38,\n",
              " 'elbowed_pierrot': 39,\n",
              " 'emperor_gum_moth': 40,\n",
              " 'garden_tiger_moth': 41,\n",
              " 'giant_leopard_moth': 42,\n",
              " 'glittering_sapphire': 43,\n",
              " 'gold_banded': 44,\n",
              " 'great_eggfly': 45,\n",
              " 'great_jay': 46,\n",
              " 'green_celled_cattleheart': 47,\n",
              " 'green_hairstreak': 48,\n",
              " 'grey_hairstreak': 49,\n",
              " 'hercules_moth': 50,\n",
              " 'humming_bird_hawk_moth': 51,\n",
              " 'indra_swallow': 52,\n",
              " 'io_moth': 53,\n",
              " 'iphiclus_sister': 54,\n",
              " 'julia': 55,\n",
              " 'large_marble': 56,\n",
              " 'luna_moth': 57,\n",
              " 'madagascan_sunset_moth': 58,\n",
              " 'malachite': 59,\n",
              " 'mangrove_skipper': 60,\n",
              " 'mestra': 61,\n",
              " 'metalmark': 62,\n",
              " 'milberts_tortoiseshell': 63,\n",
              " 'monarch': 64,\n",
              " 'mourning_cloak': 65,\n",
              " 'oleander_hawk_moth': 66,\n",
              " 'orange_oakleaf': 67,\n",
              " 'orange_tip': 68,\n",
              " 'orchard_swallow': 69,\n",
              " 'painted_lady': 70,\n",
              " 'paper_kite': 71,\n",
              " 'peacock': 72,\n",
              " 'pine_white': 73,\n",
              " 'pipevine_swallow': 74,\n",
              " 'polyphemus_moth': 75,\n",
              " 'popinjay': 76,\n",
              " 'purple_hairstreak': 77,\n",
              " 'purplish_copper': 78,\n",
              " 'question_mark': 79,\n",
              " 'red_admiral': 80,\n",
              " 'red_cracker': 81,\n",
              " 'red_postman': 82,\n",
              " 'red_spotted_purple': 83,\n",
              " 'rosy_maple_moth': 84,\n",
              " 'scarce_swallow': 85,\n",
              " 'silver_spot_skipper': 86,\n",
              " 'sixspot_burnet_moth': 87,\n",
              " 'sleepy_orange': 88,\n",
              " 'sootywing': 89,\n",
              " 'southern_dogface': 90,\n",
              " 'straited_queen': 91,\n",
              " 'tropical_leafwing': 92,\n",
              " 'two_barred_flasher': 93,\n",
              " 'ulyses': 94,\n",
              " 'viceroy': 95,\n",
              " 'white_lined_sphinx_moth': 96,\n",
              " 'wood_satyr': 97,\n",
              " 'yellow_swallow_tail': 98,\n",
              " 'zebra_long_wing': 99}"
            ]
          },
          "execution_count": 13,
          "metadata": {},
          "output_type": "execute_result"
        }
      ],
      "source": [
        "test_set = ImageDataGenerator(rescale=1./255).flow_from_directory(\n",
        "    test_path,\n",
        "    color_mode = 'rgb',\n",
        "    target_size = image_shape[:2],\n",
        "    class_mode = 'categorical',\n",
        "    batch_size = batch_size,\n",
        "    shuffle = True\n",
        ")\n",
        "\n",
        "test_set.class_indices"
      ]
    },
    {
      "cell_type": "markdown",
      "metadata": {},
      "source": [
        "### Save Class Indices"
      ]
    },
    {
      "cell_type": "code",
      "execution_count": 14,
      "metadata": {},
      "outputs": [
        {
          "data": {
            "text/plain": [
              "['outputs/v1/class_indices.pkl']"
            ]
          },
          "execution_count": 14,
          "metadata": {},
          "output_type": "execute_result"
        }
      ],
      "source": [
        "joblib.dump(\n",
        "    value = train_set.class_indices,\n",
        "    filename = f'{file_path}/class_indices.pkl'\n",
        ")"
      ]
    },
    {
      "cell_type": "markdown",
      "metadata": {},
      "source": [
        "---"
      ]
    },
    {
      "cell_type": "markdown",
      "metadata": {},
      "source": [
        "# Model Creation"
      ]
    },
    {
      "cell_type": "markdown",
      "metadata": {},
      "source": [
        "My Convolutional Neural Network will be made up of [NUMBER ] layers:\n",
        "- [NUMBER ] convolution layers\n",
        "- [NUMBER ] pooling layers \n",
        "- A single flatten layer\n",
        "- A dense layer with a dropout layer that will drop [PERCENTAGE ] of the nodes, to prevent overfitting. \n",
        "- The output layer which uses the softmax activation function to output probabilities for each class.\n",
        "- Finally a compling layer, using the loss function categorical crossentropy, as is common with multiclass classification; the adam optimizer, and the accuracy metric. "
      ]
    },
    {
      "cell_type": "code",
      "execution_count": 15,
      "metadata": {},
      "outputs": [],
      "source": [
        "def create_ml_model():\n",
        "\n",
        "    model = Sequential()\n",
        "    \n",
        "    model.add(Conv2D(filters=64, kernel_size=(3,3), activation='relu', input_shape=(224, 224, 3)))\n",
        "    model.add(MaxPool2D(pool_size=(2,2)))\n",
        "\n",
        "    model.add(Conv2D(filters=64, kernel_size=(3,3), activation='relu'))\n",
        "    model.add(MaxPool2D(pool_size=(2,2)))\n",
        "\n",
        "    model.add(Conv2D(filters=128, kernel_size=(3,3), activation='relu'))\n",
        "    model.add(MaxPool2D(pool_size=(2,2)))\n",
        "\n",
        "    model.add(Conv2D(filters=128, kernel_size=(3,3), activation='relu'))\n",
        "    model.add(MaxPool2D(pool_size=(2,2)))\n",
        "\n",
        "    model.add(Conv2D(filters=256, kernel_size=(3,3), activation='relu'))\n",
        "    model.add(MaxPool2D(pool_size=(2,2)))\n",
        "\n",
        "    model.add(Flatten())\n",
        "\n",
        "    model.add(Dense(128, activation='relu'))\n",
        "    model.add(Dropout(0.3))\n",
        "\n",
        "    model.add(Dense(100, activation='softmax'))\n",
        "    model.compile(loss='categorical_crossentropy', optimizer='adam', metrics=['accuracy'])\n",
        "\n",
        "    return model\n"
      ]
    },
    {
      "cell_type": "markdown",
      "metadata": {},
      "source": [
        "### Model Summary"
      ]
    },
    {
      "cell_type": "code",
      "execution_count": 16,
      "metadata": {},
      "outputs": [
        {
          "name": "stdout",
          "output_type": "stream",
          "text": [
            "Model: \"sequential\"\n",
            "_________________________________________________________________\n",
            "Layer (type)                 Output Shape              Param #   \n",
            "=================================================================\n",
            "conv2d (Conv2D)              (None, 222, 222, 32)      896       \n",
            "_________________________________________________________________\n",
            "max_pooling2d (MaxPooling2D) (None, 111, 111, 32)      0         \n",
            "_________________________________________________________________\n",
            "conv2d_1 (Conv2D)            (None, 109, 109, 64)      18496     \n",
            "_________________________________________________________________\n",
            "max_pooling2d_1 (MaxPooling2 (None, 54, 54, 64)        0         \n",
            "_________________________________________________________________\n",
            "conv2d_2 (Conv2D)            (None, 52, 52, 64)        36928     \n",
            "_________________________________________________________________\n",
            "max_pooling2d_2 (MaxPooling2 (None, 26, 26, 64)        0         \n",
            "_________________________________________________________________\n",
            "conv2d_3 (Conv2D)            (None, 24, 24, 128)       73856     \n",
            "_________________________________________________________________\n",
            "max_pooling2d_3 (MaxPooling2 (None, 12, 12, 128)       0         \n",
            "_________________________________________________________________\n",
            "conv2d_4 (Conv2D)            (None, 10, 10, 256)       295168    \n",
            "_________________________________________________________________\n",
            "max_pooling2d_4 (MaxPooling2 (None, 5, 5, 256)         0         \n",
            "_________________________________________________________________\n",
            "flatten (Flatten)            (None, 6400)              0         \n",
            "_________________________________________________________________\n",
            "dense (Dense)                (None, 128)               819328    \n",
            "_________________________________________________________________\n",
            "dropout (Dropout)            (None, 128)               0         \n",
            "_________________________________________________________________\n",
            "dense_1 (Dense)              (None, 100)               12900     \n",
            "=================================================================\n",
            "Total params: 1,257,572\n",
            "Trainable params: 1,257,572\n",
            "Non-trainable params: 0\n",
            "_________________________________________________________________\n"
          ]
        },
        {
          "name": "stderr",
          "output_type": "stream",
          "text": [
            "2024-03-24 03:33:35.320471: I tensorflow/core/platform/cpu_feature_guard.cc:142] This TensorFlow binary is optimized with oneAPI Deep Neural Network Library (oneDNN) to use the following CPU instructions in performance-critical operations:  AVX2 FMA\n",
            "To enable them in other operations, rebuild TensorFlow with the appropriate compiler flags.\n"
          ]
        }
      ],
      "source": [
        "create_ml_model().summary()"
      ]
    },
    {
      "cell_type": "markdown",
      "metadata": {},
      "source": [
        "### Early Stopping Callback"
      ]
    },
    {
      "cell_type": "code",
      "execution_count": 17,
      "metadata": {},
      "outputs": [],
      "source": [
        "early_stop = EarlyStopping(monitor='val_accuracy', patience=3, mode='max')\n",
        "model_checkpoint = ModelCheckpoint(\n",
        "    filepath='outputs/v1/butterfly_classification_model.h5',\n",
        "    monitor = 'val_accuracy',\n",
        "    mode = 'max',\n",
        "    save_best_only = True\n",
        ")"
      ]
    },
    {
      "cell_type": "markdown",
      "metadata": {},
      "source": [
        "### Fitting the Model"
      ]
    },
    {
      "cell_type": "code",
      "execution_count": 18,
      "metadata": {},
      "outputs": [
        {
          "name": "stderr",
          "output_type": "stream",
          "text": [
            "2024-03-24 03:33:35.871530: I tensorflow/compiler/mlir/mlir_graph_optimization_pass.cc:185] None of the MLIR Optimization Passes are enabled (registered 2)\n"
          ]
        },
        {
          "name": "stdout",
          "output_type": "stream",
          "text": [
            "Epoch 1/26\n",
            "227/227 [==============================] - 399s 2s/step - loss: 4.4872 - accuracy: 0.0180 - val_loss: 4.1161 - val_accuracy: 0.0426\n",
            "Epoch 2/26\n",
            "227/227 [==============================] - 455s 2s/step - loss: 4.0274 - accuracy: 0.0628 - val_loss: 3.5879 - val_accuracy: 0.1302\n",
            "Epoch 3/26\n",
            "227/227 [==============================] - 459s 2s/step - loss: 3.6497 - accuracy: 0.1124 - val_loss: 3.2323 - val_accuracy: 0.1902\n",
            "Epoch 4/26\n",
            "227/227 [==============================] - 468s 2s/step - loss: 3.3087 - accuracy: 0.1647 - val_loss: 2.7930 - val_accuracy: 0.2920\n",
            "Epoch 5/26\n",
            "227/227 [==============================] - 403s 2s/step - loss: 2.9968 - accuracy: 0.2312 - val_loss: 2.6178 - val_accuracy: 0.3125\n",
            "Epoch 6/26\n",
            "227/227 [==============================] - 388s 2s/step - loss: 2.7276 - accuracy: 0.2854 - val_loss: 2.2840 - val_accuracy: 0.3954\n",
            "Epoch 7/26\n",
            "227/227 [==============================] - 379s 2s/step - loss: 2.4638 - accuracy: 0.3380 - val_loss: 2.0266 - val_accuracy: 0.4578\n",
            "Epoch 8/26\n",
            "227/227 [==============================] - 376s 2s/step - loss: 2.2131 - accuracy: 0.3943 - val_loss: 1.7730 - val_accuracy: 0.5343\n",
            "Epoch 9/26\n",
            "227/227 [==============================] - 376s 2s/step - loss: 2.0491 - accuracy: 0.4377 - val_loss: 1.6588 - val_accuracy: 0.5604\n",
            "Epoch 10/26\n",
            "227/227 [==============================] - 374s 2s/step - loss: 1.9174 - accuracy: 0.4657 - val_loss: 1.5379 - val_accuracy: 0.5912\n",
            "Epoch 11/26\n",
            "227/227 [==============================] - 375s 2s/step - loss: 1.8283 - accuracy: 0.4909 - val_loss: 1.4121 - val_accuracy: 0.6062\n",
            "Epoch 12/26\n",
            "227/227 [==============================] - 375s 2s/step - loss: 1.7020 - accuracy: 0.5188 - val_loss: 1.3653 - val_accuracy: 0.6338\n",
            "Epoch 13/26\n",
            "227/227 [==============================] - 376s 2s/step - loss: 1.6016 - accuracy: 0.5507 - val_loss: 1.2875 - val_accuracy: 0.6464\n",
            "Epoch 14/26\n",
            "227/227 [==============================] - 375s 2s/step - loss: 1.5515 - accuracy: 0.5540 - val_loss: 1.2345 - val_accuracy: 0.6796\n",
            "Epoch 15/26\n",
            "227/227 [==============================] - 375s 2s/step - loss: 1.4771 - accuracy: 0.5728 - val_loss: 1.2239 - val_accuracy: 0.6788\n",
            "Epoch 16/26\n",
            "227/227 [==============================] - 376s 2s/step - loss: 1.4152 - accuracy: 0.5931 - val_loss: 1.1215 - val_accuracy: 0.7024\n",
            "Epoch 17/26\n",
            "227/227 [==============================] - 372s 2s/step - loss: 1.3352 - accuracy: 0.6129 - val_loss: 1.0362 - val_accuracy: 0.7111\n",
            "Epoch 18/26\n",
            "227/227 [==============================] - 383s 2s/step - loss: 1.3274 - accuracy: 0.6244 - val_loss: 1.0936 - val_accuracy: 0.7072\n",
            "Epoch 19/26\n",
            "227/227 [==============================] - 376s 2s/step - loss: 1.2652 - accuracy: 0.6379 - val_loss: 1.0996 - val_accuracy: 0.7088\n",
            "Epoch 20/26\n",
            "227/227 [==============================] - 376s 2s/step - loss: 1.2090 - accuracy: 0.6462 - val_loss: 0.9877 - val_accuracy: 0.7316\n",
            "Epoch 21/26\n",
            "227/227 [==============================] - 379s 2s/step - loss: 1.1784 - accuracy: 0.6632 - val_loss: 1.0359 - val_accuracy: 0.7261\n",
            "Epoch 22/26\n",
            "227/227 [==============================] - 399s 2s/step - loss: 1.1446 - accuracy: 0.6711 - val_loss: 1.0236 - val_accuracy: 0.7182\n",
            "Epoch 23/26\n",
            "227/227 [==============================] - 375s 2s/step - loss: 1.1090 - accuracy: 0.6800 - val_loss: 0.9328 - val_accuracy: 0.7427\n",
            "Epoch 24/26\n",
            "227/227 [==============================] - 373s 2s/step - loss: 1.0513 - accuracy: 0.6927 - val_loss: 0.9092 - val_accuracy: 0.7593\n",
            "Epoch 25/26\n",
            "227/227 [==============================] - 369s 2s/step - loss: 1.0529 - accuracy: 0.6940 - val_loss: 0.8854 - val_accuracy: 0.7616\n",
            "Epoch 26/26\n",
            "227/227 [==============================] - 373s 2s/step - loss: 1.0167 - accuracy: 0.7018 - val_loss: 0.8821 - val_accuracy: 0.7522\n"
          ]
        },
        {
          "data": {
            "text/plain": [
              "<keras.callbacks.History at 0x7fbad61eb220>"
            ]
          },
          "execution_count": 18,
          "metadata": {},
          "output_type": "execute_result"
        }
      ],
      "source": [
        "model = create_ml_model()\n",
        "\n",
        "model.fit(\n",
        "    train_set,\n",
        "    epochs = 32,\n",
        "    steps_per_epoch = len(train_set.classes) // batch_size,\n",
        "    validation_data = validation_set,\n",
        "    callbacks = [early_stop, model_checkpoint],\n",
        "    verbose = 1\n",
        ")"
      ]
    },
    {
      "cell_type": "markdown",
      "metadata": {},
      "source": [
        "### Save the Model"
      ]
    },
    {
      "cell_type": "code",
      "execution_count": 19,
      "metadata": {},
      "outputs": [],
      "source": [
        "model.save('outputs/v1/malaria_detector_model.h5')"
      ]
    },
    {
      "cell_type": "markdown",
      "metadata": {},
      "source": [
        "---"
      ]
    },
    {
      "cell_type": "markdown",
      "metadata": {},
      "source": [
        "# Model Performance"
      ]
    },
    {
      "cell_type": "markdown",
      "metadata": {},
      "source": [
        "---"
      ]
    },
    {
      "cell_type": "markdown",
      "metadata": {},
      "source": [
        "# Model Evaluation"
      ]
    },
    {
      "cell_type": "markdown",
      "metadata": {},
      "source": [
        "### Load Model"
      ]
    },
    {
      "cell_type": "code",
      "execution_count": null,
      "metadata": {},
      "outputs": [],
      "source": []
    },
    {
      "cell_type": "markdown",
      "metadata": {},
      "source": [
        "---"
      ]
    },
    {
      "cell_type": "markdown",
      "metadata": {},
      "source": [
        "# Predict New Data"
      ]
    },
    {
      "cell_type": "markdown",
      "metadata": {},
      "source": [
        "---"
      ]
    },
    {
      "cell_type": "code",
      "execution_count": null,
      "metadata": {},
      "outputs": [],
      "source": []
    },
    {
      "cell_type": "markdown",
      "metadata": {},
      "source": [
        "# Model Perameters / Hyperperameters\n",
        "\n",
        "## 1st Instance:\n",
        "- Conv2D layers (32, 64, 64, 128)\n",
        "- Op (adam)\n",
        "- Batch Size (20)\n",
        "- Epoch (20)\n",
        "#### Model accuracy unacceptable - 66%\n",
        "\n",
        "## 2nd Instance:\n",
        "- Conv2d layers (32, 64, 64, 128, 256)\n",
        "- Op (adam)\n",
        "- Batch Size (40)\n",
        "- Epoch (26)\n",
        "  - 1st Epoch: Loss - 4.49 Accuracy - 0.018 val_loss - 2.79 val_accuracy - 0.043\n",
        "  - 10th Epoch: Loss - 1.92 Accuracy - 0.46 val_loss - 1.54 val_accuracy - 0.59\n",
        "  - 20th Epoch: Loss - 1.21 Accuracy - 0.65 val_loss - 0.99 val_accuracy - 0.73\n",
        "  - 26th Epoch: Loss - 1.02 Accuracy - 0.70 val_loss - 0.88 val_accuracy - 0.75\n",
        "#### Model accuracy unacceptable\n",
        "\n",
        "## 2nd Instance:\n",
        "- Conv2d layers (64, 64, 128, 128, 256)\n",
        "- Op (adam)\n",
        "- Batch Size (35)\n",
        "- Epoch (32)"
      ]
    }
  ],
  "metadata": {
    "accelerator": "GPU",
    "colab": {
      "name": "Data Practitioner Jupyter Notebook.ipynb",
      "provenance": [],
      "toc_visible": true
    },
    "interpreter": {
      "hash": "8b8334dab9339717f727a1deaf837b322d7a41c20d15cc86be99a8e69ceec8ce"
    },
    "kernelspec": {
      "display_name": "Python 3.8.12 64-bit ('3.8.12': pyenv)",
      "name": "python3"
    },
    "language_info": {
      "codemirror_mode": {
        "name": "ipython",
        "version": 3
      },
      "file_extension": ".py",
      "mimetype": "text/x-python",
      "name": "python",
      "nbconvert_exporter": "python",
      "pygments_lexer": "ipython3",
      "version": "3.8.18"
    },
    "orig_nbformat": 2
  },
  "nbformat": 4,
  "nbformat_minor": 2
}
