{
  "cells": [
    {
      "cell_type": "markdown",
      "metadata": {
        "id": "0aStgWSO0E0E"
      },
      "source": [
        "# Modelling and Evaluation"
      ]
    },
    {
      "cell_type": "markdown",
      "metadata": {
        "id": "1eLEkw5O0ECa"
      },
      "source": [
        "## Objectives\n",
        "\n",
        "* Create an ML model that can diferentiate between the 100 species of butterflies and moths within the dataset.\n",
        "\n",
        "## Inputs\n",
        "\n",
        "* inputs/butterfly_moth/images/test\n",
        "* inputs/butterfly_moth/images/validation\n",
        "* inputs/butterfly_moth/images/train\n",
        "\n",
        "## Outputs\n",
        "\n",
        "* Create ML model for training.\n",
        "* Save the model.\n",
        "* Various visual representations of model performance.\n",
        "\n",
        "## Additional Comments\n",
        "\n",
        "* No comments.\n",
        "\n"
      ]
    },
    {
      "cell_type": "markdown",
      "metadata": {
        "id": "9uWZXH9LwoQg"
      },
      "source": [
        "---"
      ]
    },
    {
      "cell_type": "markdown",
      "metadata": {},
      "source": [
        "## Library Imports and Working Directory Change"
      ]
    },
    {
      "cell_type": "code",
      "execution_count": 18,
      "metadata": {},
      "outputs": [],
      "source": [
        "import os\n",
        "import matplotlib.pyplot as plt\n",
        "import seaborn as sns\n",
        "import pandas as pd\n",
        "import itertools\n",
        "import random\n",
        "import numpy as np\n",
        "import plotly.express as px\n",
        "import joblib\n",
        "from matplotlib.image import imread\n",
        "from tensorflow.keras.preprocessing import image\n",
        "from tensorflow.keras.preprocessing.image import ImageDataGenerator\n",
        "from tensorflow.keras.models import Sequential\n",
        "from tensorflow.keras.layers import Activation, Dropout, MaxPool2D, Conv2D, Dense, Flatten, MaxPooling2D\n",
        "from keras.models import load_model\n",
        "from PIL import Image\n",
        "from tensorflow.keras.callbacks import EarlyStopping, ModelCheckpoint\n",
        "\n",
        "sns.set_style('white')"
      ]
    },
    {
      "cell_type": "code",
      "execution_count": 19,
      "metadata": {},
      "outputs": [
        {
          "data": {
            "text/plain": [
              "'/workspace/portfolio-project-5'"
            ]
          },
          "execution_count": 19,
          "metadata": {},
          "output_type": "execute_result"
        }
      ],
      "source": [
        "cwd = os.getcwd()\n",
        "cwd"
      ]
    },
    {
      "cell_type": "code",
      "execution_count": 20,
      "metadata": {},
      "outputs": [
        {
          "name": "stdout",
          "output_type": "stream",
          "text": [
            "You set a new current directory\n"
          ]
        }
      ],
      "source": [
        "os.chdir('/workspace/portfolio-project-5/')\n",
        "print(\"You set a new current directory\")"
      ]
    },
    {
      "cell_type": "code",
      "execution_count": 21,
      "metadata": {},
      "outputs": [
        {
          "data": {
            "text/plain": [
              "'/workspace/portfolio-project-5'"
            ]
          },
          "execution_count": 21,
          "metadata": {},
          "output_type": "execute_result"
        }
      ],
      "source": [
        "work_dir = os.getcwd()\n",
        "work_dir"
      ]
    },
    {
      "cell_type": "markdown",
      "metadata": {},
      "source": [
        "Import image shape."
      ]
    },
    {
      "cell_type": "code",
      "execution_count": 22,
      "metadata": {},
      "outputs": [
        {
          "data": {
            "text/plain": [
              "(224, 224, 3)"
            ]
          },
          "execution_count": 22,
          "metadata": {},
          "output_type": "execute_result"
        }
      ],
      "source": [
        "version = 'v1'\n",
        "image_shape = joblib.load(filename=f'outputs/{version}/image_shape.pkl')\n",
        "image_shape"
      ]
    },
    {
      "cell_type": "markdown",
      "metadata": {},
      "source": [
        "---"
      ]
    },
    {
      "cell_type": "markdown",
      "metadata": {},
      "source": [
        "# Set Directories"
      ]
    },
    {
      "cell_type": "markdown",
      "metadata": {},
      "source": [
        "## Input"
      ]
    },
    {
      "cell_type": "markdown",
      "metadata": {},
      "source": [
        "Set train, validation and test paths."
      ]
    },
    {
      "cell_type": "code",
      "execution_count": 23,
      "metadata": {},
      "outputs": [],
      "source": [
        "img_data_dir = 'inputs/butterfly_moth/images'\n",
        "train_path = img_data_dir + '/train'\n",
        "test_path = img_data_dir + '/test'\n",
        "validation_path = img_data_dir + '/validation'"
      ]
    },
    {
      "cell_type": "markdown",
      "metadata": {},
      "source": [
        "## Output"
      ]
    },
    {
      "cell_type": "code",
      "execution_count": 24,
      "metadata": {},
      "outputs": [
        {
          "name": "stdout",
          "output_type": "stream",
          "text": [
            "Old version is already available create a new version.\n"
          ]
        }
      ],
      "source": [
        "version = 'v1'\n",
        "file_path = f'outputs/{version}'\n",
        "\n",
        "if 'outputs' in os.listdir(work_dir) and version in os.listdir(work_dir + '/outputs'):\n",
        "  print('Old version is already available create a new version.')\n",
        "  pass\n",
        "else:\n",
        "  os.makedirs(name=file_path)"
      ]
    },
    {
      "cell_type": "markdown",
      "metadata": {},
      "source": [
        "Set label name."
      ]
    },
    {
      "cell_type": "code",
      "execution_count": 25,
      "metadata": {},
      "outputs": [
        {
          "name": "stdout",
          "output_type": "stream",
          "text": [
            "Labels: ['adonis', 'african_giant_swallowtail', 'american_snoot', 'an_88', 'appollo', 'arcigera_flower_moth', 'atala', 'atlas_moth', 'banded_orange_heliconian', 'banded_peacock', 'banded_tiger_moth', 'beckers_white', 'bird_cherry_ermine_moth', 'black_hairstreak', 'blue_morpho', 'blue_spotted_crow', 'brookes_birdwing', 'brown_argus', 'brown_siproeta', 'cabbage_white', 'cairns_birdwing', 'chalk_hill_blue', 'checquered_skipper', 'chestnut', 'cinnabar_moth', 'clearwing_moth', 'cleopatra', 'clodius_parnassian', 'clouded_sulphur', 'comet_moth', 'common_banded_awl', 'common_wood-nymph', 'copper_tail', 'crecent', 'crimson_patch', 'danaid_eggfly', 'eastern_coma', 'eastern_dapple_white', 'eastern_pine_elfin', 'elbowed_pierrot', 'emperor_gum_moth', 'garden_tiger_moth', 'giant_leopard_moth', 'glittering_sapphire', 'gold_banded', 'great_eggfly', 'great_jay', 'green_celled_cattleheart', 'green_hairstreak', 'grey_hairstreak', 'hercules_moth', 'humming_bird_hawk_moth', 'indra_swallow', 'io_moth', 'iphiclus_sister', 'julia', 'large_marble', 'luna_moth', 'madagascan_sunset_moth', 'malachite', 'mangrove_skipper', 'mestra', 'metalmark', 'milberts_tortoiseshell', 'monarch', 'mourning_cloak', 'oleander_hawk_moth', 'orange_oakleaf', 'orange_tip', 'orchard_swallow', 'painted_lady', 'paper_kite', 'peacock', 'pine_white', 'pipevine_swallow', 'polyphemus_moth', 'popinjay', 'purple_hairstreak', 'purplish_copper', 'question_mark', 'red_admiral', 'red_cracker', 'red_postman', 'red_spotted_purple', 'rosy_maple_moth', 'scarce_swallow', 'silver_spot_skipper', 'sixspot_burnet_moth', 'sleepy_orange', 'sootywing', 'southern_dogface', 'straited_queen', 'tropical_leafwing', 'two_barred_flasher', 'ulyses', 'viceroy', 'white_lined_sphinx_moth', 'wood_satyr', 'yellow_swallow_tail', 'zebra_long_wing']\n"
          ]
        }
      ],
      "source": [
        "labels = os.listdir(train_path)\n",
        "print(f'Labels: {labels}')"
      ]
    },
    {
      "cell_type": "markdown",
      "metadata": {
        "id": "ZY3l0-AxO93d"
      },
      "source": [
        "---"
      ]
    },
    {
      "cell_type": "markdown",
      "metadata": {
        "id": "uFQo3ycuO-v6"
      },
      "source": [
        "# Dataset Breakdown"
      ]
    },
    {
      "cell_type": "markdown",
      "metadata": {},
      "source": [
        "I will first collate and plot the distribution of train, test and validation images."
      ]
    },
    {
      "cell_type": "code",
      "execution_count": 10,
      "metadata": {},
      "outputs": [
        {
          "data": {
            "image/png": "[encoded data removed]",
            "text/plain": [
              "<Figure size 640x480 with 1 Axes>"
            ]
          },
          "metadata": {},
          "output_type": "display_data"
        }
      ],
      "source": [
        "def collate_dataset(img_data_dir):\n",
        "    counts = {}\n",
        "    for folder in os.listdir(img_data_dir):\n",
        "        folder_path = os.path.join(img_data_dir, folder)\n",
        "        if os.path.isdir(folder_path):\n",
        "            num_of_img = sum([len(files) for r, d, files in os.walk(folder_path)])\n",
        "            counts[folder] = num_of_img\n",
        "    return counts\n",
        "\n",
        "num_of_train = collate_dataset(train_path)\n",
        "num_of_test = collate_dataset(test_path)\n",
        "num_of_validation = collate_dataset(validation_path)\n",
        "\n",
        "all_counts = {\n",
        "    'Train': sum(num_of_train.values()),\n",
        "    'Test': sum(num_of_test.values()),\n",
        "    'Validation': sum(num_of_validation.values())\n",
        "}\n",
        "\n",
        "fig, axes = plt.subplots()\n",
        "bars = axes.bar(all_counts.keys(), all_counts.values(), color=['#1E304B', '#707E5B', '#C94D5E'])\n",
        "\n",
        "axes.spines['top'].set_visible(False)\n",
        "axes.spines['right'].set_visible(False)\n",
        "\n",
        "for bar in bars:\n",
        "    height = bar.get_height()\n",
        "    axes.annotate('{}'.format(height),\n",
        "    xy=(bar.get_x() + bar.get_width() / 2, height),\n",
        "    xytext=(0, 3),\n",
        "    textcoords='offset points',\n",
        "    ha='center',\n",
        "    va='bottom')\n",
        "\n",
        "plt.title('Distribution of Images though Dataset')\n",
        "plt.xlabel('Set')\n",
        "plt.ylabel('Total Images')\n",
        "plt.savefig(f'{file_path}/dataset_breakdown.png',\n",
        "            bbox_inches='tight', dpi=150)\n",
        "plt.show()\n",
        "\n"
      ]
    },
    {
      "cell_type": "markdown",
      "metadata": {},
      "source": [
        "### Test, Train and Validation Sets"
      ]
    },
    {
      "cell_type": "code",
      "execution_count": 10,
      "metadata": {},
      "outputs": [],
      "source": [
        "augmented_image_data = ImageDataGenerator(rotation_range=20,\n",
        "                                   width_shift_range=0.10, \n",
        "                                   height_shift_range=0.10,\n",
        "                                   shear_range=0.1,\n",
        "                                   zoom_range=0.1,\n",
        "                                   horizontal_flip=True,\n",
        "                                   vertical_flip=True,\n",
        "                                   fill_mode='nearest',\n",
        "                                   rescale=1./255\n",
        "                              )"
      ]
    },
    {
      "cell_type": "code",
      "execution_count": 11,
      "metadata": {},
      "outputs": [
        {
          "name": "stdout",
          "output_type": "stream",
          "text": [
            "Found 9117 images belonging to 100 classes.\n"
          ]
        },
        {
          "data": {
            "text/plain": [
              "{'adonis': 0,\n",
              " 'african_giant_swallowtail': 1,\n",
              " 'american_snoot': 2,\n",
              " 'an_88': 3,\n",
              " 'appollo': 4,\n",
              " 'arcigera_flower_moth': 5,\n",
              " 'atala': 6,\n",
              " 'atlas_moth': 7,\n",
              " 'banded_orange_heliconian': 8,\n",
              " 'banded_peacock': 9,\n",
              " 'banded_tiger_moth': 10,\n",
              " 'beckers_white': 11,\n",
              " 'bird_cherry_ermine_moth': 12,\n",
              " 'black_hairstreak': 13,\n",
              " 'blue_morpho': 14,\n",
              " 'blue_spotted_crow': 15,\n",
              " 'brookes_birdwing': 16,\n",
              " 'brown_argus': 17,\n",
              " 'brown_siproeta': 18,\n",
              " 'cabbage_white': 19,\n",
              " 'cairns_birdwing': 20,\n",
              " 'chalk_hill_blue': 21,\n",
              " 'checquered_skipper': 22,\n",
              " 'chestnut': 23,\n",
              " 'cinnabar_moth': 24,\n",
              " 'clearwing_moth': 25,\n",
              " 'cleopatra': 26,\n",
              " 'clodius_parnassian': 27,\n",
              " 'clouded_sulphur': 28,\n",
              " 'comet_moth': 29,\n",
              " 'common_banded_awl': 30,\n",
              " 'common_wood-nymph': 31,\n",
              " 'copper_tail': 32,\n",
              " 'crecent': 33,\n",
              " 'crimson_patch': 34,\n",
              " 'danaid_eggfly': 35,\n",
              " 'eastern_coma': 36,\n",
              " 'eastern_dapple_white': 37,\n",
              " 'eastern_pine_elfin': 38,\n",
              " 'elbowed_pierrot': 39,\n",
              " 'emperor_gum_moth': 40,\n",
              " 'garden_tiger_moth': 41,\n",
              " 'giant_leopard_moth': 42,\n",
              " 'glittering_sapphire': 43,\n",
              " 'gold_banded': 44,\n",
              " 'great_eggfly': 45,\n",
              " 'great_jay': 46,\n",
              " 'green_celled_cattleheart': 47,\n",
              " 'green_hairstreak': 48,\n",
              " 'grey_hairstreak': 49,\n",
              " 'hercules_moth': 50,\n",
              " 'humming_bird_hawk_moth': 51,\n",
              " 'indra_swallow': 52,\n",
              " 'io_moth': 53,\n",
              " 'iphiclus_sister': 54,\n",
              " 'julia': 55,\n",
              " 'large_marble': 56,\n",
              " 'luna_moth': 57,\n",
              " 'madagascan_sunset_moth': 58,\n",
              " 'malachite': 59,\n",
              " 'mangrove_skipper': 60,\n",
              " 'mestra': 61,\n",
              " 'metalmark': 62,\n",
              " 'milberts_tortoiseshell': 63,\n",
              " 'monarch': 64,\n",
              " 'mourning_cloak': 65,\n",
              " 'oleander_hawk_moth': 66,\n",
              " 'orange_oakleaf': 67,\n",
              " 'orange_tip': 68,\n",
              " 'orchard_swallow': 69,\n",
              " 'painted_lady': 70,\n",
              " 'paper_kite': 71,\n",
              " 'peacock': 72,\n",
              " 'pine_white': 73,\n",
              " 'pipevine_swallow': 74,\n",
              " 'polyphemus_moth': 75,\n",
              " 'popinjay': 76,\n",
              " 'purple_hairstreak': 77,\n",
              " 'purplish_copper': 78,\n",
              " 'question_mark': 79,\n",
              " 'red_admiral': 80,\n",
              " 'red_cracker': 81,\n",
              " 'red_postman': 82,\n",
              " 'red_spotted_purple': 83,\n",
              " 'rosy_maple_moth': 84,\n",
              " 'scarce_swallow': 85,\n",
              " 'silver_spot_skipper': 86,\n",
              " 'sixspot_burnet_moth': 87,\n",
              " 'sleepy_orange': 88,\n",
              " 'sootywing': 89,\n",
              " 'southern_dogface': 90,\n",
              " 'straited_queen': 91,\n",
              " 'tropical_leafwing': 92,\n",
              " 'two_barred_flasher': 93,\n",
              " 'ulyses': 94,\n",
              " 'viceroy': 95,\n",
              " 'white_lined_sphinx_moth': 96,\n",
              " 'wood_satyr': 97,\n",
              " 'yellow_swallow_tail': 98,\n",
              " 'zebra_long_wing': 99}"
            ]
          },
          "execution_count": 11,
          "metadata": {},
          "output_type": "execute_result"
        }
      ],
      "source": [
        "batch_size = 40\n",
        "train_set = augmented_image_data.flow_from_directory(\n",
        "    train_path,\n",
        "    color_mode = 'rgb',\n",
        "    target_size = image_shape[:2],\n",
        "    class_mode = 'categorical',\n",
        "    batch_size = batch_size,\n",
        "    shuffle = True\n",
        ")\n",
        "\n",
        "train_set.class_indices"
      ]
    },
    {
      "cell_type": "code",
      "execution_count": 12,
      "metadata": {},
      "outputs": [
        {
          "name": "stdout",
          "output_type": "stream",
          "text": [
            "Found 1267 images belonging to 100 classes.\n"
          ]
        },
        {
          "data": {
            "text/plain": [
              "{'adonis': 0,\n",
              " 'african_giant_swallowtail': 1,\n",
              " 'american_snoot': 2,\n",
              " 'an_88': 3,\n",
              " 'appollo': 4,\n",
              " 'arcigera_flower_moth': 5,\n",
              " 'atala': 6,\n",
              " 'atlas_moth': 7,\n",
              " 'banded_orange_heliconian': 8,\n",
              " 'banded_peacock': 9,\n",
              " 'banded_tiger_moth': 10,\n",
              " 'beckers_white': 11,\n",
              " 'bird_cherry_ermine_moth': 12,\n",
              " 'black_hairstreak': 13,\n",
              " 'blue_morpho': 14,\n",
              " 'blue_spotted_crow': 15,\n",
              " 'brookes_birdwing': 16,\n",
              " 'brown_argus': 17,\n",
              " 'brown_siproeta': 18,\n",
              " 'cabbage_white': 19,\n",
              " 'cairns_birdwing': 20,\n",
              " 'chalk_hill_blue': 21,\n",
              " 'checquered_skipper': 22,\n",
              " 'chestnut': 23,\n",
              " 'cinnabar_moth': 24,\n",
              " 'clearwing_moth': 25,\n",
              " 'cleopatra': 26,\n",
              " 'clodius_parnassian': 27,\n",
              " 'clouded_sulphur': 28,\n",
              " 'comet_moth': 29,\n",
              " 'common_banded_awl': 30,\n",
              " 'common_wood-nymph': 31,\n",
              " 'copper_tail': 32,\n",
              " 'crecent': 33,\n",
              " 'crimson_patch': 34,\n",
              " 'danaid_eggfly': 35,\n",
              " 'eastern_coma': 36,\n",
              " 'eastern_dapple_white': 37,\n",
              " 'eastern_pine_elfin': 38,\n",
              " 'elbowed_pierrot': 39,\n",
              " 'emperor_gum_moth': 40,\n",
              " 'garden_tiger_moth': 41,\n",
              " 'giant_leopard_moth': 42,\n",
              " 'glittering_sapphire': 43,\n",
              " 'gold_banded': 44,\n",
              " 'great_eggfly': 45,\n",
              " 'great_jay': 46,\n",
              " 'green_celled_cattleheart': 47,\n",
              " 'green_hairstreak': 48,\n",
              " 'grey_hairstreak': 49,\n",
              " 'hercules_moth': 50,\n",
              " 'humming_bird_hawk_moth': 51,\n",
              " 'indra_swallow': 52,\n",
              " 'io_moth': 53,\n",
              " 'iphiclus_sister': 54,\n",
              " 'julia': 55,\n",
              " 'large_marble': 56,\n",
              " 'luna_moth': 57,\n",
              " 'madagascan_sunset_moth': 58,\n",
              " 'malachite': 59,\n",
              " 'mangrove_skipper': 60,\n",
              " 'mestra': 61,\n",
              " 'metalmark': 62,\n",
              " 'milberts_tortoiseshell': 63,\n",
              " 'monarch': 64,\n",
              " 'mourning_cloak': 65,\n",
              " 'oleander_hawk_moth': 66,\n",
              " 'orange_oakleaf': 67,\n",
              " 'orange_tip': 68,\n",
              " 'orchard_swallow': 69,\n",
              " 'painted_lady': 70,\n",
              " 'paper_kite': 71,\n",
              " 'peacock': 72,\n",
              " 'pine_white': 73,\n",
              " 'pipevine_swallow': 74,\n",
              " 'polyphemus_moth': 75,\n",
              " 'popinjay': 76,\n",
              " 'purple_hairstreak': 77,\n",
              " 'purplish_copper': 78,\n",
              " 'question_mark': 79,\n",
              " 'red_admiral': 80,\n",
              " 'red_cracker': 81,\n",
              " 'red_postman': 82,\n",
              " 'red_spotted_purple': 83,\n",
              " 'rosy_maple_moth': 84,\n",
              " 'scarce_swallow': 85,\n",
              " 'silver_spot_skipper': 86,\n",
              " 'sixspot_burnet_moth': 87,\n",
              " 'sleepy_orange': 88,\n",
              " 'sootywing': 89,\n",
              " 'southern_dogface': 90,\n",
              " 'straited_queen': 91,\n",
              " 'tropical_leafwing': 92,\n",
              " 'two_barred_flasher': 93,\n",
              " 'ulyses': 94,\n",
              " 'viceroy': 95,\n",
              " 'white_lined_sphinx_moth': 96,\n",
              " 'wood_satyr': 97,\n",
              " 'yellow_swallow_tail': 98,\n",
              " 'zebra_long_wing': 99}"
            ]
          },
          "execution_count": 12,
          "metadata": {},
          "output_type": "execute_result"
        }
      ],
      "source": [
        "validation_set = ImageDataGenerator(rescale=1./255).flow_from_directory(\n",
        "    validation_path,\n",
        "    color_mode = 'rgb',\n",
        "    target_size = image_shape[:2],\n",
        "    class_mode = 'categorical',\n",
        "    batch_size = batch_size,\n",
        "    shuffle = True\n",
        ")\n",
        "\n",
        "validation_set.class_indices"
      ]
    },
    {
      "cell_type": "code",
      "execution_count": 13,
      "metadata": {},
      "outputs": [
        {
          "name": "stdout",
          "output_type": "stream",
          "text": [
            "Found 2710 images belonging to 100 classes.\n"
          ]
        },
        {
          "data": {
            "text/plain": [
              "{'adonis': 0,\n",
              " 'african_giant_swallowtail': 1,\n",
              " 'american_snoot': 2,\n",
              " 'an_88': 3,\n",
              " 'appollo': 4,\n",
              " 'arcigera_flower_moth': 5,\n",
              " 'atala': 6,\n",
              " 'atlas_moth': 7,\n",
              " 'banded_orange_heliconian': 8,\n",
              " 'banded_peacock': 9,\n",
              " 'banded_tiger_moth': 10,\n",
              " 'beckers_white': 11,\n",
              " 'bird_cherry_ermine_moth': 12,\n",
              " 'black_hairstreak': 13,\n",
              " 'blue_morpho': 14,\n",
              " 'blue_spotted_crow': 15,\n",
              " 'brookes_birdwing': 16,\n",
              " 'brown_argus': 17,\n",
              " 'brown_siproeta': 18,\n",
              " 'cabbage_white': 19,\n",
              " 'cairns_birdwing': 20,\n",
              " 'chalk_hill_blue': 21,\n",
              " 'checquered_skipper': 22,\n",
              " 'chestnut': 23,\n",
              " 'cinnabar_moth': 24,\n",
              " 'clearwing_moth': 25,\n",
              " 'cleopatra': 26,\n",
              " 'clodius_parnassian': 27,\n",
              " 'clouded_sulphur': 28,\n",
              " 'comet_moth': 29,\n",
              " 'common_banded_awl': 30,\n",
              " 'common_wood-nymph': 31,\n",
              " 'copper_tail': 32,\n",
              " 'crecent': 33,\n",
              " 'crimson_patch': 34,\n",
              " 'danaid_eggfly': 35,\n",
              " 'eastern_coma': 36,\n",
              " 'eastern_dapple_white': 37,\n",
              " 'eastern_pine_elfin': 38,\n",
              " 'elbowed_pierrot': 39,\n",
              " 'emperor_gum_moth': 40,\n",
              " 'garden_tiger_moth': 41,\n",
              " 'giant_leopard_moth': 42,\n",
              " 'glittering_sapphire': 43,\n",
              " 'gold_banded': 44,\n",
              " 'great_eggfly': 45,\n",
              " 'great_jay': 46,\n",
              " 'green_celled_cattleheart': 47,\n",
              " 'green_hairstreak': 48,\n",
              " 'grey_hairstreak': 49,\n",
              " 'hercules_moth': 50,\n",
              " 'humming_bird_hawk_moth': 51,\n",
              " 'indra_swallow': 52,\n",
              " 'io_moth': 53,\n",
              " 'iphiclus_sister': 54,\n",
              " 'julia': 55,\n",
              " 'large_marble': 56,\n",
              " 'luna_moth': 57,\n",
              " 'madagascan_sunset_moth': 58,\n",
              " 'malachite': 59,\n",
              " 'mangrove_skipper': 60,\n",
              " 'mestra': 61,\n",
              " 'metalmark': 62,\n",
              " 'milberts_tortoiseshell': 63,\n",
              " 'monarch': 64,\n",
              " 'mourning_cloak': 65,\n",
              " 'oleander_hawk_moth': 66,\n",
              " 'orange_oakleaf': 67,\n",
              " 'orange_tip': 68,\n",
              " 'orchard_swallow': 69,\n",
              " 'painted_lady': 70,\n",
              " 'paper_kite': 71,\n",
              " 'peacock': 72,\n",
              " 'pine_white': 73,\n",
              " 'pipevine_swallow': 74,\n",
              " 'polyphemus_moth': 75,\n",
              " 'popinjay': 76,\n",
              " 'purple_hairstreak': 77,\n",
              " 'purplish_copper': 78,\n",
              " 'question_mark': 79,\n",
              " 'red_admiral': 80,\n",
              " 'red_cracker': 81,\n",
              " 'red_postman': 82,\n",
              " 'red_spotted_purple': 83,\n",
              " 'rosy_maple_moth': 84,\n",
              " 'scarce_swallow': 85,\n",
              " 'silver_spot_skipper': 86,\n",
              " 'sixspot_burnet_moth': 87,\n",
              " 'sleepy_orange': 88,\n",
              " 'sootywing': 89,\n",
              " 'southern_dogface': 90,\n",
              " 'straited_queen': 91,\n",
              " 'tropical_leafwing': 92,\n",
              " 'two_barred_flasher': 93,\n",
              " 'ulyses': 94,\n",
              " 'viceroy': 95,\n",
              " 'white_lined_sphinx_moth': 96,\n",
              " 'wood_satyr': 97,\n",
              " 'yellow_swallow_tail': 98,\n",
              " 'zebra_long_wing': 99}"
            ]
          },
          "execution_count": 13,
          "metadata": {},
          "output_type": "execute_result"
        }
      ],
      "source": [
        "test_set = ImageDataGenerator(rescale=1./255).flow_from_directory(\n",
        "    test_path,\n",
        "    color_mode = 'rgb',\n",
        "    target_size = image_shape[:2],\n",
        "    class_mode = 'categorical',\n",
        "    batch_size = batch_size,\n",
        "    shuffle = True\n",
        ")\n",
        "\n",
        "test_set.class_indices"
      ]
    },
    {
      "cell_type": "markdown",
      "metadata": {},
      "source": [
        "### Save Class Indices"
      ]
    },
    {
      "cell_type": "code",
      "execution_count": 14,
      "metadata": {},
      "outputs": [
        {
          "data": {
            "text/plain": [
              "['outputs/v1/class_indices.pkl']"
            ]
          },
          "execution_count": 14,
          "metadata": {},
          "output_type": "execute_result"
        }
      ],
      "source": [
        "joblib.dump(\n",
        "    value = train_set.class_indices,\n",
        "    filename = f'{file_path}/class_indices.pkl'\n",
        ")"
      ]
    },
    {
      "cell_type": "markdown",
      "metadata": {},
      "source": [
        "---"
      ]
    },
    {
      "cell_type": "markdown",
      "metadata": {},
      "source": [
        "# Model Creation"
      ]
    },
    {
      "cell_type": "code",
      "execution_count": 15,
      "metadata": {},
      "outputs": [],
      "source": [
        "def create_ml_model():\n",
        "\n",
        "    model = Sequential()\n",
        "    \n",
        "    model.add(Conv2D(filters=32, kernel_size=(3,3), activation='relu', input_shape=(224, 224, 3)))\n",
        "    model.add(MaxPool2D(pool_size=(2,2)))\n",
        "\n",
        "    model.add(Conv2D(filters=64, kernel_size=(3,3), activation='relu'))\n",
        "    model.add(MaxPool2D(pool_size=(2,2)))\n",
        "\n",
        "    model.add(Conv2D(filters=64, kernel_size=(3,3), activation='relu'))\n",
        "    model.add(MaxPool2D(pool_size=(2,2)))\n",
        "\n",
        "    model.add(Conv2D(filters=128, kernel_size=(3,3), activation='relu'))\n",
        "    model.add(MaxPool2D(pool_size=(2,2)))\n",
        "\n",
        "    model.add(Conv2D(filters=256, kernel_size=(3,3), activation='relu'))\n",
        "    model.add(MaxPool2D(pool_size=(2,2)))\n",
        "\n",
        "    model.add(Flatten())\n",
        "\n",
        "    model.add(Dense(128, activation='relu'))\n",
        "    model.add(Dropout(0.3))\n",
        "\n",
        "    model.add(Dense(100, activation='softmax'))\n",
        "    model.compile(loss='categorical_crossentropy', optimizer='adam', metrics=['accuracy'])\n",
        "\n",
        "    return model\n"
      ]
    },
    {
      "cell_type": "markdown",
      "metadata": {},
      "source": [
        "### Model Summary"
      ]
    },
    {
      "cell_type": "code",
      "execution_count": 16,
      "metadata": {},
      "outputs": [
        {
          "name": "stdout",
          "output_type": "stream",
          "text": [
            "Model: \"sequential\"\n",
            "_________________________________________________________________\n",
            "Layer (type)                 Output Shape              Param #   \n",
            "=================================================================\n",
            "conv2d (Conv2D)              (None, 222, 222, 32)      896       \n",
            "_________________________________________________________________\n",
            "max_pooling2d (MaxPooling2D) (None, 111, 111, 32)      0         \n",
            "_________________________________________________________________\n",
            "conv2d_1 (Conv2D)            (None, 109, 109, 64)      18496     \n",
            "_________________________________________________________________\n",
            "max_pooling2d_1 (MaxPooling2 (None, 54, 54, 64)        0         \n",
            "_________________________________________________________________\n",
            "conv2d_2 (Conv2D)            (None, 52, 52, 64)        36928     \n",
            "_________________________________________________________________\n",
            "max_pooling2d_2 (MaxPooling2 (None, 26, 26, 64)        0         \n",
            "_________________________________________________________________\n",
            "conv2d_3 (Conv2D)            (None, 24, 24, 128)       73856     \n",
            "_________________________________________________________________\n",
            "max_pooling2d_3 (MaxPooling2 (None, 12, 12, 128)       0         \n",
            "_________________________________________________________________\n",
            "conv2d_4 (Conv2D)            (None, 10, 10, 256)       295168    \n",
            "_________________________________________________________________\n",
            "max_pooling2d_4 (MaxPooling2 (None, 5, 5, 256)         0         \n",
            "_________________________________________________________________\n",
            "flatten (Flatten)            (None, 6400)              0         \n",
            "_________________________________________________________________\n",
            "dense (Dense)                (None, 128)               819328    \n",
            "_________________________________________________________________\n",
            "dropout (Dropout)            (None, 128)               0         \n",
            "_________________________________________________________________\n",
            "dense_1 (Dense)              (None, 100)               12900     \n",
            "=================================================================\n",
            "Total params: 1,257,572\n",
            "Trainable params: 1,257,572\n",
            "Non-trainable params: 0\n",
            "_________________________________________________________________\n"
          ]
        },
        {
          "name": "stderr",
          "output_type": "stream",
          "text": [
            "2024-03-25 09:05:57.915087: I tensorflow/core/platform/cpu_feature_guard.cc:142] This TensorFlow binary is optimized with oneAPI Deep Neural Network Library (oneDNN) to use the following CPU instructions in performance-critical operations:  AVX2 FMA\n",
            "To enable them in other operations, rebuild TensorFlow with the appropriate compiler flags.\n"
          ]
        }
      ],
      "source": [
        "create_ml_model().summary()"
      ]
    },
    {
      "cell_type": "markdown",
      "metadata": {},
      "source": [
        "### Early Stopping Callback"
      ]
    },
    {
      "cell_type": "code",
      "execution_count": 17,
      "metadata": {},
      "outputs": [],
      "source": [
        "early_stop = EarlyStopping(monitor='val_accuracy', patience=3, mode='max')"
      ]
    },
    {
      "cell_type": "markdown",
      "metadata": {},
      "source": [
        "### Fitting the Model"
      ]
    },
    {
      "cell_type": "code",
      "execution_count": 18,
      "metadata": {},
      "outputs": [
        {
          "name": "stderr",
          "output_type": "stream",
          "text": [
            "2024-03-25 09:05:58.476443: I tensorflow/compiler/mlir/mlir_graph_optimization_pass.cc:185] None of the MLIR Optimization Passes are enabled (registered 2)\n"
          ]
        },
        {
          "name": "stdout",
          "output_type": "stream",
          "text": [
            "Epoch 1/45\n"
          ]
        },
        {
          "name": "stderr",
          "output_type": "stream",
          "text": [
            "2024-03-25 09:05:59.290151: W tensorflow/core/framework/cpu_allocator_impl.cc:80] Allocation of 252334080 exceeds 10% of free system memory.\n",
            "2024-03-25 09:06:02.213961: W tensorflow/core/framework/cpu_allocator_impl.cc:80] Allocation of 252334080 exceeds 10% of free system memory.\n"
          ]
        },
        {
          "name": "stdout",
          "output_type": "stream",
          "text": [
            "  1/227 [..............................] - ETA: 16:42 - loss: 4.6093 - accuracy: 0.0000e+00"
          ]
        },
        {
          "name": "stderr",
          "output_type": "stream",
          "text": [
            "2024-03-25 09:06:02.929307: W tensorflow/core/framework/cpu_allocator_impl.cc:80] Allocation of 252334080 exceeds 10% of free system memory.\n",
            "2024-03-25 09:06:05.927803: W tensorflow/core/framework/cpu_allocator_impl.cc:80] Allocation of 252334080 exceeds 10% of free system memory.\n"
          ]
        },
        {
          "name": "stdout",
          "output_type": "stream",
          "text": [
            "  2/227 [..............................] - ETA: 12:40 - loss: 4.5979 - accuracy: 0.0000e+00"
          ]
        },
        {
          "name": "stderr",
          "output_type": "stream",
          "text": [
            "2024-03-25 09:06:06.308190: W tensorflow/core/framework/cpu_allocator_impl.cc:80] Allocation of 252334080 exceeds 10% of free system memory.\n"
          ]
        },
        {
          "name": "stdout",
          "output_type": "stream",
          "text": [
            "227/227 [==============================] - 566s 2s/step - loss: 4.5816 - accuracy: 0.0158 - val_loss: 4.4029 - val_accuracy: 0.0371\n",
            "Epoch 2/45\n",
            "227/227 [==============================] - 582s 3s/step - loss: 4.1481 - accuracy: 0.0419 - val_loss: 3.7250 - val_accuracy: 0.1018\n",
            "Epoch 3/45\n",
            "227/227 [==============================] - 486s 2s/step - loss: 3.6958 - accuracy: 0.0878 - val_loss: 3.1648 - val_accuracy: 0.1926\n",
            "Epoch 4/45\n",
            "227/227 [==============================] - 484s 2s/step - loss: 3.2859 - accuracy: 0.1578 - val_loss: 2.7367 - val_accuracy: 0.2841\n",
            "Epoch 5/45\n",
            "227/227 [==============================] - 444s 2s/step - loss: 3.0360 - accuracy: 0.2071 - val_loss: 2.4620 - val_accuracy: 0.3607\n",
            "Epoch 6/45\n",
            "227/227 [==============================] - 389s 2s/step - loss: 2.7719 - accuracy: 0.2540 - val_loss: 2.2463 - val_accuracy: 0.3875\n",
            "Epoch 7/45\n",
            "227/227 [==============================] - 395s 2s/step - loss: 2.5447 - accuracy: 0.3149 - val_loss: 2.0332 - val_accuracy: 0.4475\n",
            "Epoch 8/45\n",
            "227/227 [==============================] - 379s 2s/step - loss: 2.3817 - accuracy: 0.3415 - val_loss: 1.8875 - val_accuracy: 0.4736\n",
            "Epoch 9/45\n",
            "227/227 [==============================] - 395s 2s/step - loss: 2.2209 - accuracy: 0.3794 - val_loss: 1.8054 - val_accuracy: 0.4980\n",
            "Epoch 10/45\n",
            "227/227 [==============================] - 420s 2s/step - loss: 2.1420 - accuracy: 0.4045 - val_loss: 1.6636 - val_accuracy: 0.5414\n",
            "Epoch 11/45\n",
            "227/227 [==============================] - 396s 2s/step - loss: 2.0314 - accuracy: 0.4289 - val_loss: 1.6241 - val_accuracy: 0.5635\n",
            "Epoch 12/45\n",
            "227/227 [==============================] - 377s 2s/step - loss: 1.9050 - accuracy: 0.4584 - val_loss: 1.5515 - val_accuracy: 0.5525\n",
            "Epoch 13/45\n",
            "227/227 [==============================] - 413s 2s/step - loss: 1.8579 - accuracy: 0.4752 - val_loss: 1.5216 - val_accuracy: 0.5943\n",
            "Epoch 14/45\n",
            "227/227 [==============================] - 387s 2s/step - loss: 1.7752 - accuracy: 0.4988 - val_loss: 1.3631 - val_accuracy: 0.6290\n",
            "Epoch 15/45\n",
            "227/227 [==============================] - 378s 2s/step - loss: 1.6999 - accuracy: 0.5177 - val_loss: 1.3622 - val_accuracy: 0.6259\n",
            "Epoch 16/45\n",
            "227/227 [==============================] - 387s 2s/step - loss: 1.6386 - accuracy: 0.5359 - val_loss: 1.2609 - val_accuracy: 0.6504\n",
            "Epoch 17/45\n",
            "227/227 [==============================] - 387s 2s/step - loss: 1.5774 - accuracy: 0.5525 - val_loss: 1.2076 - val_accuracy: 0.6693\n",
            "Epoch 18/45\n",
            "227/227 [==============================] - 376s 2s/step - loss: 1.5331 - accuracy: 0.5595 - val_loss: 1.2174 - val_accuracy: 0.6638\n",
            "Epoch 19/45\n",
            "227/227 [==============================] - 388s 2s/step - loss: 1.4952 - accuracy: 0.5689 - val_loss: 1.1495 - val_accuracy: 0.6898\n",
            "Epoch 20/45\n",
            "227/227 [==============================] - 377s 2s/step - loss: 1.4395 - accuracy: 0.5907 - val_loss: 1.1179 - val_accuracy: 0.6914\n",
            "Epoch 21/45\n",
            "227/227 [==============================] - 392s 2s/step - loss: 1.3928 - accuracy: 0.6003 - val_loss: 1.1417 - val_accuracy: 0.6843\n",
            "Epoch 22/45\n",
            "227/227 [==============================] - 441s 2s/step - loss: 1.3523 - accuracy: 0.6084 - val_loss: 1.1677 - val_accuracy: 0.6701\n",
            "Epoch 23/45\n",
            "227/227 [==============================] - 400s 2s/step - loss: 1.3261 - accuracy: 0.6212 - val_loss: 1.0215 - val_accuracy: 0.7048\n",
            "Epoch 24/45\n",
            "227/227 [==============================] - 372s 2s/step - loss: 1.2728 - accuracy: 0.6303 - val_loss: 1.0181 - val_accuracy: 0.7119\n",
            "Epoch 25/45\n",
            "227/227 [==============================] - 378s 2s/step - loss: 1.2596 - accuracy: 0.6297 - val_loss: 0.9753 - val_accuracy: 0.7356\n",
            "Epoch 26/45\n",
            "227/227 [==============================] - 420s 2s/step - loss: 1.2212 - accuracy: 0.6431 - val_loss: 1.0002 - val_accuracy: 0.7277\n",
            "Epoch 27/45\n",
            "227/227 [==============================] - 418s 2s/step - loss: 1.2104 - accuracy: 0.6502 - val_loss: 0.9796 - val_accuracy: 0.7435\n",
            "Epoch 28/45\n",
            "227/227 [==============================] - 394s 2s/step - loss: 1.1510 - accuracy: 0.6674 - val_loss: 0.9550 - val_accuracy: 0.7269\n",
            "Epoch 29/45\n",
            "227/227 [==============================] - 415s 2s/step - loss: 1.1112 - accuracy: 0.6717 - val_loss: 0.9664 - val_accuracy: 0.7332\n",
            "Epoch 30/45\n",
            "227/227 [==============================] - 380s 2s/step - loss: 1.1419 - accuracy: 0.6673 - val_loss: 0.9019 - val_accuracy: 0.7593\n",
            "Epoch 31/45\n",
            "227/227 [==============================] - 393s 2s/step - loss: 1.0930 - accuracy: 0.6782 - val_loss: 0.9310 - val_accuracy: 0.7269\n",
            "Epoch 32/45\n",
            "227/227 [==============================] - 495s 2s/step - loss: 1.1014 - accuracy: 0.6771 - val_loss: 0.9180 - val_accuracy: 0.7482\n",
            "Epoch 33/45\n",
            "227/227 [==============================] - 556s 2s/step - loss: 1.0493 - accuracy: 0.6877 - val_loss: 0.8543 - val_accuracy: 0.7616\n",
            "Epoch 34/45\n",
            "227/227 [==============================] - 501s 2s/step - loss: 1.0276 - accuracy: 0.6965 - val_loss: 0.8628 - val_accuracy: 0.7664\n",
            "Epoch 35/45\n",
            "227/227 [==============================] - 560s 2s/step - loss: 1.0162 - accuracy: 0.6999 - val_loss: 0.9327 - val_accuracy: 0.7466\n",
            "Epoch 36/45\n",
            "227/227 [==============================] - 517s 2s/step - loss: 1.0041 - accuracy: 0.7020 - val_loss: 0.8861 - val_accuracy: 0.7530\n",
            "Epoch 37/45\n",
            "227/227 [==============================] - 623s 3s/step - loss: 0.9708 - accuracy: 0.7140 - val_loss: 0.8476 - val_accuracy: 0.7648\n"
          ]
        },
        {
          "data": {
            "text/plain": [
              "<keras.callbacks.History at 0x7f51053f1610>"
            ]
          },
          "execution_count": 18,
          "metadata": {},
          "output_type": "execute_result"
        }
      ],
      "source": [
        "model = create_ml_model()\n",
        "\n",
        "model.fit(\n",
        "    train_set,\n",
        "    epochs = 45,\n",
        "    steps_per_epoch = len(train_set.classes) // batch_size,\n",
        "    validation_data = validation_set,\n",
        "    callbacks = [early_stop],\n",
        "    verbose = 1\n",
        ")"
      ]
    },
    {
      "cell_type": "markdown",
      "metadata": {},
      "source": [
        "### Save the Model"
      ]
    },
    {
      "cell_type": "code",
      "execution_count": 19,
      "metadata": {},
      "outputs": [],
      "source": [
        "model.save('outputs/v1/butterfly_moth_classification.h5')"
      ]
    },
    {
      "cell_type": "markdown",
      "metadata": {},
      "source": [
        "---"
      ]
    },
    {
      "cell_type": "markdown",
      "metadata": {},
      "source": [
        "# Model Performance"
      ]
    },
    {
      "cell_type": "markdown",
      "metadata": {},
      "source": [
        "### Load Model"
      ]
    },
    {
      "cell_type": "code",
      "execution_count": 16,
      "metadata": {},
      "outputs": [],
      "source": [
        "model = load_model('outputs/v1/butterfly_moth_classification_final.h5')"
      ]
    },
    {
      "cell_type": "markdown",
      "metadata": {},
      "source": [
        "### Model Learning Curve"
      ]
    },
    {
      "cell_type": "code",
      "execution_count": 17,
      "metadata": {},
      "outputs": [
        {
          "ename": "AttributeError",
          "evalue": "'NoneType' object has no attribute 'history'",
          "output_type": "error",
          "traceback": [
            "\u001b[0;31m---------------------------------------------------------------------------\u001b[0m",
            "\u001b[0;31mAttributeError\u001b[0m                            Traceback (most recent call last)",
            "\u001b[1;32m/workspace/portfolio-project-5/jupyter_notebooks/ModellingAndEvaluation.ipynb Cell 47\u001b[0m line \u001b[0;36m1\n\u001b[0;32m----> <a href='vscode-notebook-cell://blahblahbla-portfoliopr-x9epbbgdjsm.ws-eu110.gitpod.io/workspace/portfolio-project-5/jupyter_notebooks/ModellingAndEvaluation.ipynb#X62sdnNjb2RlLXJlbW90ZQ%3D%3D?line=0'>1</a>\u001b[0m history \u001b[39m=\u001b[39m pd\u001b[39m.\u001b[39mDataFrame(model\u001b[39m.\u001b[39;49mhistory\u001b[39m.\u001b[39;49mhistory)\n",
            "\u001b[0;31mAttributeError\u001b[0m: 'NoneType' object has no attribute 'history'"
          ]
        }
      ],
      "source": [
        "history = pd.DataFrame(model.history.history)"
      ]
    },
    {
      "cell_type": "code",
      "execution_count": 15,
      "metadata": {},
      "outputs": [
        {
          "ename": "NameError",
          "evalue": "name 'history' is not defined",
          "output_type": "error",
          "traceback": [
            "\u001b[0;31m---------------------------------------------------------------------------\u001b[0m",
            "\u001b[0;31mNameError\u001b[0m                                 Traceback (most recent call last)",
            "\u001b[1;32m/workspace/portfolio-project-5/jupyter_notebooks/ModellingAndEvaluation.ipynb Cell 46\u001b[0m line \u001b[0;36m2\n\u001b[1;32m      <a href='vscode-notebook-cell://blahblahbla-portfoliopr-x9epbbgdjsm.ws-eu110.gitpod.io/workspace/portfolio-project-5/jupyter_notebooks/ModellingAndEvaluation.ipynb#X63sdnNjb2RlLXJlbW90ZQ%3D%3D?line=0'>1</a>\u001b[0m sns\u001b[39m.\u001b[39mset_style(\u001b[39m'\u001b[39m\u001b[39mwhitegrid\u001b[39m\u001b[39m'\u001b[39m)\n\u001b[0;32m----> <a href='vscode-notebook-cell://blahblahbla-portfoliopr-x9epbbgdjsm.ws-eu110.gitpod.io/workspace/portfolio-project-5/jupyter_notebooks/ModellingAndEvaluation.ipynb#X63sdnNjb2RlLXJlbW90ZQ%3D%3D?line=1'>2</a>\u001b[0m history[[\u001b[39m'\u001b[39m\u001b[39mloss\u001b[39m\u001b[39m'\u001b[39m, \u001b[39m'\u001b[39m\u001b[39mval_loss\u001b[39m\u001b[39m'\u001b[39m]]\u001b[39m.\u001b[39mplot(style\u001b[39m=\u001b[39m\u001b[39m'\u001b[39m\u001b[39m.-\u001b[39m\u001b[39m'\u001b[39m)\n\u001b[1;32m      <a href='vscode-notebook-cell://blahblahbla-portfoliopr-x9epbbgdjsm.ws-eu110.gitpod.io/workspace/portfolio-project-5/jupyter_notebooks/ModellingAndEvaluation.ipynb#X63sdnNjb2RlLXJlbW90ZQ%3D%3D?line=2'>3</a>\u001b[0m plt\u001b[39m.\u001b[39mtitle(\u001b[39m'\u001b[39m\u001b[39mLoss\u001b[39m\u001b[39m'\u001b[39m)\n\u001b[1;32m      <a href='vscode-notebook-cell://blahblahbla-portfoliopr-x9epbbgdjsm.ws-eu110.gitpod.io/workspace/portfolio-project-5/jupyter_notebooks/ModellingAndEvaluation.ipynb#X63sdnNjb2RlLXJlbW90ZQ%3D%3D?line=3'>4</a>\u001b[0m plt\u001b[39m.\u001b[39mshow()\n",
            "\u001b[0;31mNameError\u001b[0m: name 'history' is not defined"
          ]
        }
      ],
      "source": [
        "sns.set_style('whitegrid')\n",
        "history[['loss', 'val_loss']].plot(style='.-')\n",
        "plt.title('Loss')\n",
        "plt.show()\n",
        "\n",
        "print('\\n')\n",
        "\n",
        "sns.set_style('whitegrid')\n",
        "history[['accuracy', 'val_accuracy']].plot(style='.-')\n",
        "plt.title('Accuracy')\n",
        "plt.savefig(f'{file_path}/model_eval.png',\n",
        "            bbox_inches='tight', dpi=150)\n",
        "plt.show()"
      ]
    },
    {
      "cell_type": "markdown",
      "metadata": {},
      "source": [
        "Conclusion:\n",
        "- The model neither under or over fit, but learned the data normally."
      ]
    },
    {
      "cell_type": "markdown",
      "metadata": {},
      "source": [
        "---"
      ]
    },
    {
      "cell_type": "markdown",
      "metadata": {},
      "source": [
        "# Model Evaluation"
      ]
    },
    {
      "cell_type": "markdown",
      "metadata": {},
      "source": [
        "Load model."
      ]
    },
    {
      "cell_type": "code",
      "execution_count": 13,
      "metadata": {},
      "outputs": [
        {
          "name": "stderr",
          "output_type": "stream",
          "text": [
            "2024-03-27 11:43:52.354365: I tensorflow/core/platform/cpu_feature_guard.cc:142] This TensorFlow binary is optimized with oneAPI Deep Neural Network Library (oneDNN) to use the following CPU instructions in performance-critical operations:  AVX2 FMA\n",
            "To enable them in other operations, rebuild TensorFlow with the appropriate compiler flags.\n"
          ]
        }
      ],
      "source": [
        "model = load_model('outputs/v1/butterfly_moth_classification_final.h5')"
      ]
    },
    {
      "cell_type": "markdown",
      "metadata": {},
      "source": [
        "Evaluate model on the test set."
      ]
    },
    {
      "cell_type": "code",
      "execution_count": 30,
      "metadata": {},
      "outputs": [
        {
          "name": "stdout",
          "output_type": "stream",
          "text": [
            "68/68 [==============================] - 33s 479ms/step - loss: 0.8551 - accuracy: 0.7731\n",
            "Model Accuracy: 77.306271%\n"
          ]
        }
      ],
      "source": [
        "model_eval = model.evaluate(test_set)\n",
        "print('Model Accuracy: {:2f}%'.format(model_eval[1] * 100))"
      ]
    },
    {
      "cell_type": "markdown",
      "metadata": {},
      "source": [
        "Save evaluation."
      ]
    },
    {
      "cell_type": "code",
      "execution_count": 29,
      "metadata": {},
      "outputs": [
        {
          "data": {
            "text/plain": [
              "['outputs/v1/model_evaluation.pkl']"
            ]
          },
          "execution_count": 29,
          "metadata": {},
          "output_type": "execute_result"
        }
      ],
      "source": [
        "joblib.dump(value=model_eval, filename='outputs/v1/model_evaluation.pkl')"
      ]
    },
    {
      "cell_type": "markdown",
      "metadata": {},
      "source": [
        "---"
      ]
    },
    {
      "cell_type": "markdown",
      "metadata": {},
      "source": [
        "# Predict On New Data"
      ]
    },
    {
      "cell_type": "markdown",
      "metadata": {},
      "source": [
        "Load test image."
      ]
    },
    {
      "cell_type": "code",
      "execution_count": 10,
      "metadata": {},
      "outputs": [
        {
          "name": "stdout",
          "output_type": "stream",
          "text": [
            "appollo\n"
          ]
        },
        {
          "data": {
            "image/jpeg": "[encoded data removed]",
            "image/png": "[encoded data removed]",
            "text/plain": [
              "<PIL.JpegImagePlugin.JpegImageFile image mode=RGB size=224x224>"
            ]
          },
          "execution_count": 10,
          "metadata": {},
          "output_type": "execute_result"
        }
      ],
      "source": [
        "label = labels[4] \n",
        "\n",
        "pointer = 0\n",
        "pil_img = image.load_img(\n",
        "    test_path + '/' + label + '/' + os.listdir(test_path + '/' + label)[pointer],\n",
        "    target_size = image_shape,\n",
        "    color_mode = 'rgb'\n",
        ")\n",
        "\n",
        "print(label)\n",
        "pil_img"
      ]
    },
    {
      "cell_type": "markdown",
      "metadata": {},
      "source": [
        "Convert image to array."
      ]
    },
    {
      "cell_type": "code",
      "execution_count": 11,
      "metadata": {},
      "outputs": [
        {
          "name": "stdout",
          "output_type": "stream",
          "text": [
            "(1, 224, 224, 3)\n"
          ]
        }
      ],
      "source": [
        "img_array = image.img_to_array(pil_img)\n",
        "img_array = np.expand_dims(img_array, axis=0)/255\n",
        "\n",
        "print(img_array.shape)"
      ]
    },
    {
      "cell_type": "markdown",
      "metadata": {},
      "source": [
        "Predict the class the image belongs to."
      ]
    },
    {
      "cell_type": "code",
      "execution_count": 14,
      "metadata": {},
      "outputs": [
        {
          "name": "stdout",
          "output_type": "stream",
          "text": [
            "Predicted Class: appollo\n",
            "Predicttion Score: 99.84%\n"
          ]
        }
      ],
      "source": [
        "predict_probabilities = model.predict(img_array)\n",
        "highest_prob = np.argmax(predict_probabilities, axis=1)\n",
        "\n",
        "prediction_index = highest_prob[0]\n",
        "prediction_class = labels[prediction_index]\n",
        "\n",
        "prediction_value = predict_probabilities[0,prediction_index]\n",
        "\n",
        "\n",
        "\n",
        "print(f'Predicted Class: {prediction_class}')\n",
        "print(f'Predicttion Score: {round(prediction_value * 100, 2)}%')"
      ]
    },
    {
      "cell_type": "markdown",
      "metadata": {},
      "source": [
        "---"
      ]
    }
  ],
  "metadata": {
    "accelerator": "GPU",
    "colab": {
      "name": "Data Practitioner Jupyter Notebook.ipynb",
      "provenance": [],
      "toc_visible": true
    },
    "interpreter": {
      "hash": "8b8334dab9339717f727a1deaf837b322d7a41c20d15cc86be99a8e69ceec8ce"
    },
    "kernelspec": {
      "display_name": "Python 3.8.12 64-bit ('3.8.12': pyenv)",
      "name": "python3"
    },
    "language_info": {
      "codemirror_mode": {
        "name": "ipython",
        "version": 3
      },
      "file_extension": ".py",
      "mimetype": "text/x-python",
      "name": "python",
      "nbconvert_exporter": "python",
      "pygments_lexer": "ipython3",
      "version": "3.8.18"
    },
    "orig_nbformat": 2
  },
  "nbformat": 4,
  "nbformat_minor": 2
}
